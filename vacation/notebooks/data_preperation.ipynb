{
 "cells": [
  {
   "cell_type": "code",
   "execution_count": 1,
   "id": "0",
   "metadata": {},
   "outputs": [],
   "source": [
    "from vacation.data import generate_dataset, train_test_split, augment_dataset"
   ]
  },
  {
   "cell_type": "code",
   "execution_count": 2,
   "id": "1",
   "metadata": {},
   "outputs": [
    {
     "name": "stderr",
     "output_type": "stream",
     "text": [
      "/home/jovyan/vacation/vacation/data/dataset_creation.py:24: UserWarning: The data file already exists at this location!Use a different location or set 'redownload=True'.\n",
      "  warnings.warn(\n"
     ]
    },
    {
     "name": "stdout",
     "output_type": "stream",
     "text": [
      "Checksum passed successfully.\n"
     ]
    }
   ],
   "source": [
    "# Download dataset and generate pre-processed ()\n",
    "try:\n",
    "    generate_dataset(\"../../.data/\", overwrite=False, redownload=False)\n",
    "except FileExistsError:\n",
    "    pass"
   ]
  },
  {
   "cell_type": "code",
   "execution_count": null,
   "id": "2",
   "metadata": {},
   "outputs": [],
   "source": [
    "# Train-Test split\n",
    "train_test_split(\n",
    "    path=\"../../.data/Galaxy10_DECals_proc.h5\",\n",
    "    random_state=42,\n",
    "    pack_size=1000,\n",
    "    overwrite=False,\n",
    ")"
   ]
  },
  {
   "cell_type": "code",
   "execution_count": 2,
   "id": "3",
   "metadata": {},
   "outputs": [
    {
     "data": {
      "application/vnd.jupyter.widget-view+json": {
       "model_id": "8c88640630e44aac8725d7752b5e78e0",
       "version_major": 2,
       "version_minor": 0
      },
      "text/plain": [
       "  0%|          | 0/10 [00:00<?, ?it/s]"
      ]
     },
     "metadata": {},
     "output_type": "display_data"
    },
    {
     "name": "stdout",
     "output_type": "stream",
     "text": [
      "[Class 0] Current: 865, Adding: 1200\n"
     ]
    },
    {
     "data": {
      "application/vnd.jupyter.widget-view+json": {
       "model_id": "6a5ea22403924e6e9f97c79cc9dcdf82",
       "version_major": 2,
       "version_minor": 0
      },
      "text/plain": [
       "Augmenting class 0:   0%|          | 0/1200 [00:00<?, ?it/s]"
      ]
     },
     "metadata": {},
     "output_type": "display_data"
    },
    {
     "name": "stdout",
     "output_type": "stream",
     "text": [
      "[Class 1] Current: 1482, Adding: 641\n"
     ]
    },
    {
     "data": {
      "application/vnd.jupyter.widget-view+json": {
       "model_id": "8a707d250596404cbb0462b7896b1609",
       "version_major": 2,
       "version_minor": 0
      },
      "text/plain": [
       "Augmenting class 1:   0%|          | 0/641 [00:00<?, ?it/s]"
      ]
     },
     "metadata": {},
     "output_type": "display_data"
    },
    {
     "name": "stdout",
     "output_type": "stream",
     "text": [
      "[Class 3] Current: 1622, Adding: 490\n"
     ]
    },
    {
     "data": {
      "application/vnd.jupyter.widget-view+json": {
       "model_id": "2ca29d4a8190420bb013394294542da1",
       "version_major": 2,
       "version_minor": 0
      },
      "text/plain": [
       "Augmenting class 3:   0%|          | 0/490 [00:00<?, ?it/s]"
      ]
     },
     "metadata": {},
     "output_type": "display_data"
    },
    {
     "name": "stdout",
     "output_type": "stream",
     "text": [
      "[Class 4] Current: 267, Adding: 1827\n"
     ]
    },
    {
     "data": {
      "application/vnd.jupyter.widget-view+json": {
       "model_id": "7f3291890a7643fe8f25155b747850d8",
       "version_major": 2,
       "version_minor": 0
      },
      "text/plain": [
       "Augmenting class 4:   0%|          | 0/1827 [00:00<?, ?it/s]"
      ]
     },
     "metadata": {},
     "output_type": "display_data"
    },
    {
     "name": "stdout",
     "output_type": "stream",
     "text": [
      "[Class 5] Current: 1634, Adding: 460\n"
     ]
    },
    {
     "data": {
      "application/vnd.jupyter.widget-view+json": {
       "model_id": "6b7d5464cab542fb94a12efa1d166928",
       "version_major": 2,
       "version_minor": 0
      },
      "text/plain": [
       "Augmenting class 5:   0%|          | 0/460 [00:00<?, ?it/s]"
      ]
     },
     "metadata": {},
     "output_type": "display_data"
    },
    {
     "name": "stdout",
     "output_type": "stream",
     "text": [
      "[Class 6] Current: 1463, Adding: 667\n"
     ]
    },
    {
     "data": {
      "application/vnd.jupyter.widget-view+json": {
       "model_id": "4b495c1d20fa452da6ae4aa9ca27e3c8",
       "version_major": 2,
       "version_minor": 0
      },
      "text/plain": [
       "Augmenting class 6:   0%|          | 0/667 [00:00<?, ?it/s]"
      ]
     },
     "metadata": {},
     "output_type": "display_data"
    },
    {
     "name": "stdout",
     "output_type": "stream",
     "text": [
      "[Class 8] Current: 1139, Adding: 926\n"
     ]
    },
    {
     "data": {
      "application/vnd.jupyter.widget-view+json": {
       "model_id": "7d5f04ed85f54f9b8af7921a68dbbe22",
       "version_major": 2,
       "version_minor": 0
      },
      "text/plain": [
       "Augmenting class 8:   0%|          | 0/926 [00:00<?, ?it/s]"
      ]
     },
     "metadata": {},
     "output_type": "display_data"
    },
    {
     "name": "stdout",
     "output_type": "stream",
     "text": [
      "[Class 9] Current: 1498, Adding: 618\n"
     ]
    },
    {
     "data": {
      "application/vnd.jupyter.widget-view+json": {
       "model_id": "d6e10cd108464ac8ba5e36a4d6b6f725",
       "version_major": 2,
       "version_minor": 0
      },
      "text/plain": [
       "Augmenting class 9:   0%|          | 0/618 [00:00<?, ?it/s]"
      ]
     },
     "metadata": {},
     "output_type": "display_data"
    }
   ],
   "source": [
    "# Augmenting training data\n",
    "augment_dataset(\n",
    "    path=\"../../.data/Galaxy10_DECals_proc_train.h5\",\n",
    "    target_path=\"../../.data/Galaxy10_DECals_augmented_train.h5\",\n",
    "    seed=42,\n",
    "    overwrite=False,\n",
    ")"
   ]
  },
  {
   "cell_type": "code",
   "execution_count": null,
   "id": "4",
   "metadata": {},
   "outputs": [
    {
     "name": "stdout",
     "output_type": "stream",
     "text": [
      "Splitted index arrays: train -> 16813 | test -> 4204\n"
     ]
    },
    {
     "data": {
      "application/vnd.jupyter.widget-view+json": {
       "model_id": "039bb1a79652417ab27427f0d0078c45",
       "version_major": 2,
       "version_minor": 0
      },
      "text/plain": [
       "Loading and saving training data:   0%|          | 0/17 [00:00<?, ?it/s]"
      ]
     },
     "metadata": {},
     "output_type": "display_data"
    }
   ],
   "source": [
    "# Train-Validation split\n",
    "train_test_split(\n",
    "    path=\"../../.data/Galaxy10_DECals_augmented_train.h5\",\n",
    "    name_prefix=\"Galaxy10_DECals\",\n",
    "    test_type=\"valid\",\n",
    "    random_state=1337,\n",
    "    pack_size=1000,\n",
    "    overwrite=True,\n",
    ")"
   ]
  }
 ],
 "metadata": {
  "kernelspec": {
   "display_name": "Python 3 (ipykernel)",
   "language": "python",
   "name": "python3"
  },
  "language_info": {
   "codemirror_mode": {
    "name": "ipython",
    "version": 3
   },
   "file_extension": ".py",
   "mimetype": "text/x-python",
   "name": "python",
   "nbconvert_exporter": "python",
   "pygments_lexer": "ipython3",
   "version": "3.12.2"
  }
 },
 "nbformat": 4,
 "nbformat_minor": 5
}
