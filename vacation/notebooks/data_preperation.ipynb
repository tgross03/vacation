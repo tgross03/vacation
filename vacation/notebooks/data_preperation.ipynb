{
 "cells": [
  {
   "cell_type": "code",
   "execution_count": 1,
   "id": "0",
   "metadata": {},
   "outputs": [],
   "source": [
    "from vacation.data import generate_dataset, train_test_split, augment_dataset"
   ]
  },
  {
   "cell_type": "code",
   "execution_count": 1,
   "id": "1",
   "metadata": {},
   "outputs": [
    {
     "name": "stdout",
     "output_type": "stream",
     "text": [
      "Downloading data from https://zenodo.org/records/10845026/files/Galaxy10_DECals.h5. Saving to ../../.data/Galaxy10_DECals.h5.\n"
     ]
    },
    {
     "name": "stderr",
     "output_type": "stream",
     "text": [
      "\n",
      "KeyboardInterrupt\n",
      "\n",
      "\n",
      "KeyboardInterrupt\n",
      "\n"
     ]
    }
   ],
   "source": [
    "# Download dataset and generate pre-processed ()\n",
    "try:\n",
    "    generate_dataset(\"../../.data/\", overwrite=False, redownload=False)\n",
    "except FileExistsError:\n",
    "    pass"
   ]
  },
  {
   "cell_type": "code",
   "execution_count": null,
   "id": "2",
   "metadata": {},
   "outputs": [],
   "source": [
    "# Train-Test split\n",
    "train_test_split(\n",
    "    path=\"../../.data/Galaxy10_DECals_proc.h5\",\n",
    "    random_state=42,\n",
    "    pack_size=1000,\n",
    "    overwrite=False,\n",
    ")"
   ]
  },
  {
   "cell_type": "code",
   "execution_count": null,
   "id": "3",
   "metadata": {},
   "outputs": [],
   "source": [
    "# Augmenting training data\n",
    "augment_dataset(\n",
    "    path=\"../../.data/Galaxy10_DECals_proc_train.h5\",\n",
    "    target_path=\"../../.data/Galaxy10_DECals_augmented_train.h5\",\n",
    "    seed=42,\n",
    "    overwrite=False,\n",
    ")"
   ]
  },
  {
   "cell_type": "code",
   "execution_count": null,
   "id": "4",
   "metadata": {},
   "outputs": [],
   "source": [
    "# Train-Validation split\n",
    "train_test_split(\n",
    "    path=\"../../.data/Galaxy10_DECals_augmented_train.h5\",\n",
    "    name_prefix=\"Galaxy10_DECals\",\n",
    "    test_type=\"valid\",\n",
    "    random_state=1337,\n",
    "    pack_size=1000,\n",
    "    overwrite=True,\n",
    ")"
   ]
  },
  {
   "cell_type": "code",
   "execution_count": null,
   "id": "d9a1c5f4-d72d-442b-8212-8579c06d34ef",
   "metadata": {},
   "outputs": [],
   "source": []
  }
 ],
 "metadata": {
  "kernelspec": {
   "display_name": "Python 3 (ipykernel)",
   "language": "python",
   "name": "python3"
  },
  "language_info": {
   "codemirror_mode": {
    "name": "ipython",
    "version": 3
   },
   "file_extension": ".py",
   "mimetype": "text/x-python",
   "name": "python",
   "nbconvert_exporter": "python",
   "pygments_lexer": "ipython3",
   "version": "3.12.11"
  }
 },
 "nbformat": 4,
 "nbformat_minor": 5
}
