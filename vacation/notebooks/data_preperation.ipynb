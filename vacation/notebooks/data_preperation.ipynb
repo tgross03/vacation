{
 "cells": [
  {
   "cell_type": "code",
   "execution_count": 1,
   "id": "66b7deec-be25-421b-a951-48e552f2a091",
   "metadata": {},
   "outputs": [],
   "source": [
    "from vacation.data import generate_dataset, train_test_split, augment_dataset"
   ]
  },
  {
   "cell_type": "code",
   "execution_count": 2,
   "id": "b56de6b4-be73-475f-a9b8-0104ab4b1800",
   "metadata": {},
   "outputs": [
    {
     "name": "stderr",
     "output_type": "stream",
     "text": [
      "/home/jovyan/vacation/vacation/data/dataset_creation.py:26: UserWarning: The data file already exists at this location!Use a different location or set 'redownload=True'.\n",
      "  warnings.warn(\n"
     ]
    },
    {
     "name": "stdout",
     "output_type": "stream",
     "text": [
      "Checksum passed successfully.\n"
     ]
    }
   ],
   "source": [
    "# Download dataset and generate pre-processed ()\n",
    "try:\n",
    "    generate_dataset(\"../../.data/\", overwrite=False, redownload=False)\n",
    "except FileExistsError:\n",
    "    pass"
   ]
  },
  {
   "cell_type": "code",
   "execution_count": null,
   "id": "03352176-4190-4a87-8e54-7631e1b8214b",
   "metadata": {},
   "outputs": [
    {
     "name": "stdout",
     "output_type": "stream",
     "text": [
      "Splitted index arrays: train -> 14188 | test -> 3548\n"
     ]
    },
    {
     "data": {
      "application/vnd.jupyter.widget-view+json": {
       "model_id": "c294a7f8b87a4042bfe66fec6857cfb3",
       "version_major": 2,
       "version_minor": 0
      },
      "text/plain": [
       "Loading and saving training data:   0%|          | 0/15 [00:00<?, ?it/s]"
      ]
     },
     "metadata": {},
     "output_type": "display_data"
    }
   ],
   "source": [
    "# Train-Test split\n",
    "train_test_split(\n",
    "    path=\"../../.data/Galaxy10_DECals_proc.h5\",\n",
    "    random_state=42,\n",
    "    pack_size=1000,\n",
    "    overwrite=False,\n",
    ")"
   ]
  },
  {
   "cell_type": "code",
   "execution_count": null,
   "id": "6ae43f5c-7397-4246-825a-c285c0538442",
   "metadata": {},
   "outputs": [],
   "source": [
    "# Augmenting training data\n",
    "augment_dataset(\n",
    "    path=\"../../.data/Galaxy10_DECals_proc_train.h5\",\n",
    "    target_path=\"../../.data/Galaxy10_DECals_augmented_train.h5\",\n",
    "    seed=42,\n",
    "    overwrite=False,\n",
    ")"
   ]
  },
  {
   "cell_type": "code",
   "execution_count": null,
   "id": "81046513-030a-4e4b-ae50-05ac250a596c",
   "metadata": {},
   "outputs": [],
   "source": [
    "# Train-Validation split\n",
    "train_test_split(\n",
    "    path=\"../../.data/Galaxy10_DECals_augmented_train.h5\",\n",
    "    name_prefix=\"Galaxy10_DECals\",\n",
    "    test_type=\"valid\",\n",
    "    random_state=1337,\n",
    "    pack_size=1000,\n",
    "    overwrite=False,\n",
    ")"
   ]
  },
  {
   "cell_type": "code",
   "execution_count": null,
   "id": "0fca3f50-0ef9-4297-baea-adedaefc819e",
   "metadata": {},
   "outputs": [],
   "source": []
  }
 ],
 "metadata": {
  "kernelspec": {
   "display_name": "Python 3 (ipykernel)",
   "language": "python",
   "name": "python3"
  },
  "language_info": {
   "codemirror_mode": {
    "name": "ipython",
    "version": 3
   },
   "file_extension": ".py",
   "mimetype": "text/x-python",
   "name": "python",
   "nbconvert_exporter": "python",
   "pygments_lexer": "ipython3",
   "version": "3.12.2"
  }
 },
 "nbformat": 4,
 "nbformat_minor": 5
}
