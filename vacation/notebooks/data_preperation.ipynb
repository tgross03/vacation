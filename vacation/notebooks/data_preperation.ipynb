{
 "cells": [
  {
   "cell_type": "code",
   "execution_count": 1,
   "id": "0",
   "metadata": {},
   "outputs": [],
   "source": [
    "from vacation.data import generate_dataset, train_test_split, augment_dataset"
   ]
  },
  {
   "cell_type": "code",
   "execution_count": 2,
   "id": "1",
   "metadata": {},
   "outputs": [
    {
     "name": "stderr",
     "output_type": "stream",
     "text": [
      "/home/jovyan/vacation/vacation/data/dataset_creation.py:24: UserWarning: The data file already exists at this location!Use a different location or set 'redownload=True'.\n",
      "  warnings.warn(\n"
     ]
    },
    {
     "name": "stdout",
     "output_type": "stream",
     "text": [
      "Checksum passed successfully.\n"
     ]
    }
   ],
   "source": [
    "# Download dataset and generate pre-processed ()\n",
    "try:\n",
    "    generate_dataset(\"../../.data/\", overwrite=False, redownload=False)\n",
    "except FileExistsError:\n",
    "    pass"
   ]
  },
  {
   "cell_type": "code",
   "execution_count": null,
   "id": "2",
   "metadata": {},
   "outputs": [],
   "source": [
    "# Train-Test split\n",
    "train_test_split(\n",
    "    path=\"../../.data/Galaxy10_DECals_proc.h5\",\n",
    "    random_state=42,\n",
    "    pack_size=1000,\n",
    "    overwrite=False,\n",
    ")"
   ]
  },
  {
   "cell_type": "code",
   "execution_count": null,
   "id": "3",
   "metadata": {},
   "outputs": [
    {
     "data": {
      "application/vnd.jupyter.widget-view+json": {
       "model_id": "8c88640630e44aac8725d7752b5e78e0",
       "version_major": 2,
       "version_minor": 0
      },
      "text/plain": [
       "  0%|          | 0/10 [00:00<?, ?it/s]"
      ]
     },
     "metadata": {},
     "output_type": "display_data"
    },
    {
     "name": "stdout",
     "output_type": "stream",
     "text": [
      "[Class 0] Current: 865, Adding: 1200\n"
     ]
    },
    {
     "data": {
      "application/vnd.jupyter.widget-view+json": {
       "model_id": "6a5ea22403924e6e9f97c79cc9dcdf82",
       "version_major": 2,
       "version_minor": 0
      },
      "text/plain": [
       "Augmenting class 0:   0%|          | 0/1200 [00:00<?, ?it/s]"
      ]
     },
     "metadata": {},
     "output_type": "display_data"
    }
   ],
   "source": [
    "# Augmenting training data\n",
    "augment_dataset(\n",
    "    path=\"../../.data/Galaxy10_DECals_proc_train.h5\",\n",
    "    target_path=\"../../.data/Galaxy10_DECals_augmented_train.h5\",\n",
    "    seed=42,\n",
    "    overwrite=False,\n",
    ")"
   ]
  },
  {
   "cell_type": "code",
   "execution_count": null,
   "id": "4",
   "metadata": {},
   "outputs": [],
   "source": [
    "# Train-Validation split\n",
    "train_test_split(\n",
    "    path=\"../../.data/Galaxy10_DECals_augmented_train.h5\",\n",
    "    name_prefix=\"Galaxy10_DECals\",\n",
    "    test_type=\"valid\",\n",
    "    random_state=1337,\n",
    "    pack_size=1000,\n",
    "    overwrite=True,\n",
    ")"
   ]
  },
  {
   "cell_type": "code",
   "execution_count": null,
   "id": "5",
   "metadata": {},
   "outputs": [],
   "source": []
  }
 ],
 "metadata": {
  "kernelspec": {
   "display_name": "Python 3 (ipykernel)",
   "language": "python",
   "name": "python3"
  },
  "language_info": {
   "codemirror_mode": {
    "name": "ipython",
    "version": 3
   },
   "file_extension": ".py",
   "mimetype": "text/x-python",
   "name": "python",
   "nbconvert_exporter": "python",
   "pygments_lexer": "ipython3",
   "version": "3.12.2"
  }
 },
 "nbformat": 4,
 "nbformat_minor": 5
}
