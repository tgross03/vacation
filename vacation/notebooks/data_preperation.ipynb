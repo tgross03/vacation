{
 "cells": [
  {
   "cell_type": "code",
   "execution_count": null,
   "id": "0",
   "metadata": {},
   "outputs": [],
   "source": [
    "from vacation.data import generate_dataset, train_test_split, augment_dataset"
   ]
  },
  {
   "cell_type": "code",
   "execution_count": null,
   "id": "1",
   "metadata": {},
   "outputs": [],
   "source": [
    "# Download dataset and generate pre-processed ()\n",
    "try:\n",
    "    generate_dataset(\"../../.data/\", overwrite=False, redownload=False)\n",
    "except FileExistsError:\n",
    "    pass"
   ]
  },
  {
   "cell_type": "code",
   "execution_count": null,
   "id": "2",
   "metadata": {},
   "outputs": [],
   "source": [
    "# Train-Test split\n",
    "train_test_split(\n",
    "    path=\"../../.data/Galaxy10_DECals_proc.h5\",\n",
    "    random_state=42,\n",
    "    pack_size=1000,\n",
    "    overwrite=False,\n",
    ")"
   ]
  },
  {
   "cell_type": "code",
   "execution_count": null,
   "id": "3",
   "metadata": {},
   "outputs": [],
   "source": [
    "# Augmenting training data\n",
    "augment_dataset(\n",
    "    path=\"../../.data/Galaxy10_DECals_proc_train.h5\",\n",
    "    target_path=\"../../.data/Galaxy10_DECals_augmented_train.h5\",\n",
    "    seed=42,\n",
    "    overwrite=False,\n",
    ")"
   ]
  },
  {
   "cell_type": "code",
   "execution_count": null,
   "id": "4",
   "metadata": {},
   "outputs": [],
   "source": [
    "# Train-Validation split\n",
    "train_test_split(\n",
    "    path=\"../../.data/Galaxy10_DECals_augmented_train.h5\",\n",
    "    name_prefix=\"Galaxy10_DECals\",\n",
    "    test_type=\"valid\",\n",
    "    random_state=1337,\n",
    "    pack_size=1000,\n",
    "    overwrite=False,\n",
    ")"
   ]
  },
  {
   "cell_type": "code",
   "execution_count": null,
   "id": "5",
   "metadata": {},
   "outputs": [],
   "source": []
  }
 ],
 "metadata": {
  "kernelspec": {
   "display_name": "Python 3 (ipykernel)",
   "language": "python",
   "name": "python3"
  },
  "language_info": {
   "codemirror_mode": {
    "name": "ipython",
    "version": 3
   },
   "file_extension": ".py",
   "mimetype": "text/x-python",
   "name": "python",
   "nbconvert_exporter": "python",
   "pygments_lexer": "ipython3",
   "version": "3.12.2"
  }
 },
 "nbformat": 4,
 "nbformat_minor": 5
}
