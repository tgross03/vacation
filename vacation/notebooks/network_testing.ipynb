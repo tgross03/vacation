{
 "cells": [
  {
   "cell_type": "code",
   "execution_count": 1,
   "id": "176d1e93-4fe1-4602-a63f-54dc122ea916",
   "metadata": {},
   "outputs": [],
   "source": [
    "def calculate_size(dim, kernel_size, padding, stride):\n",
    "    return ((dim - kernel_size + 2 * padding) / stride) + 1"
   ]
  },
  {
   "cell_type": "code",
   "execution_count": 43,
   "id": "d1cb81c8-1b23-4c18-a099-8888fab2d304",
   "metadata": {},
   "outputs": [
    {
     "data": {
      "text/plain": [
       "15376.0"
      ]
     },
     "execution_count": 43,
     "metadata": {},
     "output_type": "execute_result"
    }
   ],
   "source": [
    "s1 = calculate_size(256, 3, 0, 1) # Conv2d\n",
    "s2 = calculate_size(s1, 2, 0, 2) # AvgPool2d\n",
    "s3 = calculate_size(s2, 3, 0, 1) # Conv2d\n",
    "s4 = calculate_size(s3, 3, 2, 2) # MaxPool2d\n",
    "s5 = calculate_size(s4, 3, 0, 1) # Conv2d\n",
    "s6 = calculate_size(s5, 2, 0, 2) # MaxPool2d\n",
    "s6**2 * 16"
   ]
  },
  {
   "cell_type": "code",
   "execution_count": 44,
   "id": "88d515b9-5fdf-4a93-926e-9cc1071cb046",
   "metadata": {},
   "outputs": [],
   "source": [
    "from torch import nn"
   ]
  },
  {
   "cell_type": "code",
   "execution_count": 46,
   "id": "8b3c1eb0-7166-4551-888b-d1e5c0d9a548",
   "metadata": {},
   "outputs": [],
   "source": [
    "layer = nn.Conv2d(in_channels=3,\n",
    "       out_channels=4,\n",
    "       kernel_size=3, padding=0, stride=1)"
   ]
  },
  {
   "cell_type": "code",
   "execution_count": 50,
   "id": "cc13e0d8-1e95-4ec7-a3a1-609aca121c0f",
   "metadata": {},
   "outputs": [
    {
     "data": {
      "text/plain": [
       "3"
      ]
     },
     "execution_count": 50,
     "metadata": {},
     "output_type": "execute_result"
    }
   ],
   "source": [
    "layer.kernel_size[0]"
   ]
  },
  {
   "cell_type": "code",
   "execution_count": 51,
   "id": "d2edc9c0-ccde-48b4-8d61-dcc768f52a92",
   "metadata": {},
   "outputs": [],
   "source": [
    "from dataclasses import dataclass"
   ]
  },
  {
   "cell_type": "code",
   "execution_count": 57,
   "id": "5356aaca-1380-4945-94b3-9fdeb208184b",
   "metadata": {},
   "outputs": [],
   "source": [
    "@dataclass\n",
    "class Human:\n",
    "    name: str\n",
    "    age: int\n",
    "    has_dog: bool\n",
    "\n",
    "    def say_hi(self):\n",
    "        print(\"Hello, my name is\", self.name)"
   ]
  },
  {
   "cell_type": "code",
   "execution_count": 58,
   "id": "2fe213db-0d91-4482-8282-fa1d07432b30",
   "metadata": {},
   "outputs": [
    {
     "name": "stdout",
     "output_type": "stream",
     "text": [
      "Hello, my name is Nick\n"
     ]
    }
   ],
   "source": [
    "Human(\"Nick\", 22, True).say_hi()"
   ]
  },
  {
   "cell_type": "code",
   "execution_count": 59,
   "id": "104951b1-1432-4c5c-b1b4-ec923af386c7",
   "metadata": {},
   "outputs": [],
   "source": [
    "import torch"
   ]
  },
  {
   "cell_type": "code",
   "execution_count": 66,
   "id": "8dedd909-bb95-4175-8ae1-ea61aef06874",
   "metadata": {},
   "outputs": [
    {
     "data": {
      "text/plain": [
       "tensor([0., 0., 0., 0., 0., 1., 1., 1., 1., 1.])"
      ]
     },
     "execution_count": 66,
     "metadata": {},
     "output_type": "execute_result"
    }
   ],
   "source": [
    "torch.cat([torch.zeros(5), torch.ones(5)])"
   ]
  },
  {
   "cell_type": "code",
   "execution_count": 69,
   "id": "d3b75bbe-a14c-4def-aefa-f1b9eac49cc6",
   "metadata": {},
   "outputs": [],
   "source": [
    "x = {\"a\": 0, \"b\": 1}"
   ]
  },
  {
   "cell_type": "code",
   "execution_count": 70,
   "id": "9342208d-880b-458b-90c2-22c03538ef06",
   "metadata": {},
   "outputs": [
    {
     "data": {
      "text/plain": [
       "{'a': 2, 'b': 3}"
      ]
     },
     "execution_count": 70,
     "metadata": {},
     "output_type": "execute_result"
    }
   ],
   "source": [
    "dict(zip(x.keys(), [2, 3]))"
   ]
  },
  {
   "cell_type": "code",
   "execution_count": 71,
   "id": "b9f01e42-7701-43fd-9491-a6ebeabb7e14",
   "metadata": {},
   "outputs": [
    {
     "data": {
      "text/plain": [
       "[[], [], []]"
      ]
     },
     "execution_count": 71,
     "metadata": {},
     "output_type": "execute_result"
    }
   ],
   "source": [
    "[[]]*3"
   ]
  },
  {
   "cell_type": "code",
   "execution_count": 73,
   "id": "d27811c7-bf74-4b26-9805-5d0670ca504c",
   "metadata": {},
   "outputs": [
    {
     "data": {
      "text/plain": [
       "tensor(nan)"
      ]
     },
     "execution_count": 73,
     "metadata": {},
     "output_type": "execute_result"
    }
   ],
   "source": [
    "torch.Tensor().mean()"
   ]
  },
  {
   "cell_type": "code",
   "execution_count": null,
   "id": "4ee711fe-7a49-4a1b-b85e-e5dc0925dfb6",
   "metadata": {},
   "outputs": [],
   "source": []
  }
 ],
 "metadata": {
  "kernelspec": {
   "display_name": "Python 3 (ipykernel)",
   "language": "python",
   "name": "python3"
  },
  "language_info": {
   "codemirror_mode": {
    "name": "ipython",
    "version": 3
   },
   "file_extension": ".py",
   "mimetype": "text/x-python",
   "name": "python",
   "nbconvert_exporter": "python",
   "pygments_lexer": "ipython3",
   "version": "3.12.2"
  }
 },
 "nbformat": 4,
 "nbformat_minor": 5
}
