{
 "cells": [
  {
   "cell_type": "code",
   "execution_count": null,
   "id": "0",
   "metadata": {},
   "outputs": [],
   "source": [
    "from vacation.model import VCNN\n",
    "from vacation.data import GalaxyDataset\n",
    "import numpy as np\n",
    "import torch\n",
    "\n",
    "rng = np.random.default_rng(1337)"
   ]
  },
  {
   "cell_type": "code",
   "execution_count": null,
   "id": "1",
   "metadata": {},
   "outputs": [],
   "source": [
    "train_ds = GalaxyDataset(\n",
    "    path=\"/scratch/tgross/vacation_data/reduced_size/Galaxy10_DECals_train.h5\",\n",
    "    device=\"cuda:1\",\n",
    "    max_cache_size=\"14G\",\n",
    "    cache_loaded=True,\n",
    "    index_collection=rng.integers(0, 16813, 6000),\n",
    ")"
   ]
  },
  {
   "cell_type": "code",
   "execution_count": null,
   "id": "2",
   "metadata": {},
   "outputs": [],
   "source": [
    "valid_ds = GalaxyDataset(\n",
    "    path=\"/scratch/tgross/vacation_data/reduced_size/Galaxy10_DECals_valid.h5\",\n",
    "    device=\"cuda:1\",\n",
    "    max_cache_size=\"5G\",\n",
    "    cache_loaded=True,\n",
    "    index_collection=rng.integers(0, 4204, 1000),\n",
    ")"
   ]
  },
  {
   "cell_type": "code",
   "execution_count": null,
   "id": "3",
   "metadata": {},
   "outputs": [],
   "source": [
    "# train_ds.plot_distribution()\n",
    "# valid_ds.plot_distribution()"
   ]
  },
  {
   "cell_type": "code",
   "execution_count": null,
   "id": "4",
   "metadata": {},
   "outputs": [],
   "source": [
    "def calculate_size(dim, kernel_size, padding, stride):\n",
    "    return ((dim - kernel_size + 2 * padding) / stride) + 1\n",
    "\n",
    "\n",
    "def calculate_network(\n",
    "    input_dim,\n",
    "    num_conv_blocks,\n",
    "    conv_kernel_size,\n",
    "    conv_padding,\n",
    "    conv_stride,\n",
    "    pool_kernel_size,\n",
    "    pool_padding,\n",
    "    pool_stride,\n",
    "):\n",
    "    sizes = []\n",
    "    for i in range(0, num_conv_blocks):\n",
    "        dim = input_dim if i == 0 else sizes[-1]\n",
    "        if dim < conv_kernel_size:\n",
    "            raise ValueError(\n",
    "                f\"The image size after layer {i} is smaller than the convolution kernel!\"\n",
    "            )\n",
    "\n",
    "        sizes.append(\n",
    "            calculate_size(\n",
    "                dim=dim,\n",
    "                kernel_size=conv_kernel_size,\n",
    "                padding=conv_padding,\n",
    "                stride=conv_stride,\n",
    "            )\n",
    "        )\n",
    "\n",
    "        if sizes[-1] < pool_kernel_size:\n",
    "            raise ValueError(\n",
    "                f\"The image size after the convolution of layer {i+1} is smaller than the pooling kernel!\"\n",
    "            )\n",
    "\n",
    "        sizes.append(\n",
    "            calculate_size(\n",
    "                dim=sizes[-1],\n",
    "                kernel_size=pool_kernel_size,\n",
    "                padding=pool_padding,\n",
    "                stride=pool_stride,\n",
    "            )\n",
    "        )\n",
    "\n",
    "        print(\"-------------- Layer\", (i + 1), \"--------------\")\n",
    "        print(f\"POST-CONV: {sizes[-2]} | POST-POOL: {sizes[-1]}\")\n",
    "\n",
    "        if not sizes[-1].is_integer() or not sizes[-2].is_integer():\n",
    "            raise ValueError(\n",
    "                f\"An image size after layer {i+1} is not an integer value!\"\n",
    "            )"
   ]
  },
  {
   "cell_type": "code",
   "execution_count": null,
   "id": "5",
   "metadata": {},
   "outputs": [],
   "source": [
    "s1_1 = calculate_network(128, 5, 3, 0, 1, 2, 1, 2)"
   ]
  },
  {
   "cell_type": "code",
   "execution_count": null,
   "id": "6",
   "metadata": {},
   "outputs": [],
   "source": [
    "model = VCNN(\n",
    "    train_batch_size=int(2**5),\n",
    "    valid_batch_size=int(2**3),\n",
    "    num_conv_blocks=6,\n",
    "    num_dense_layers=1,\n",
    "    out_channels=[1, 11, 12, 12, 12, 12],\n",
    "    conv_dropout_rates=[0.0, 0.0, 0.0, 0.0, 0.0, 0.0],\n",
    "    lin_out_features=[300],\n",
    "    lin_dropout_rates=[0.0],\n",
    "    optimizer=torch.optim.AdamW,\n",
    "    activation_func=torch.nn.PReLU,\n",
    "    learning_rate=0.001,\n",
    "    weight_decay=0.01,\n",
    "    loss_func=torch.nn.CrossEntropyLoss,\n",
    "    pool_kernel_args={\"kernel_size\": 2, \"padding\": 1, \"stride\": 2},\n",
    "    device=\"cuda:1\",\n",
    ")\n",
    "model.init_data(train_dataset=train_ds, valid_dataset=valid_ds)"
   ]
  },
  {
   "cell_type": "code",
   "execution_count": null,
   "id": "7",
   "metadata": {},
   "outputs": [],
   "source": [
    "model.summarize(input_dims=(int(2**5), 3, 128, 128))"
   ]
  },
  {
   "cell_type": "code",
   "execution_count": null,
   "id": "8",
   "metadata": {},
   "outputs": [],
   "source": [
    "model.train_epochs(n_epochs=40)"
   ]
  },
  {
   "cell_type": "code",
   "execution_count": null,
   "id": "9",
   "metadata": {},
   "outputs": [],
   "source": [
    "model.save_state(\".models/model2.pt\", relative_to_package=True)"
   ]
  },
  {
   "cell_type": "code",
   "execution_count": null,
   "id": "10",
   "metadata": {},
   "outputs": [],
   "source": [
    "model1 = VCNN.load(\n",
    "    \"model2.pt\",\n",
    "    optimizer=torch.optim.AdamW,\n",
    "    activation_func=torch.nn.PReLU,\n",
    "    loss_func=torch.nn.CrossEntropyLoss,\n",
    ")"
   ]
  },
  {
   "cell_type": "code",
   "execution_count": null,
   "id": "11",
   "metadata": {},
   "outputs": [],
   "source": [
    "import matplotlib.pyplot as plt"
   ]
  },
  {
   "cell_type": "code",
   "execution_count": null,
   "id": "12",
   "metadata": {},
   "outputs": [],
   "source": [
    "plt.plot(model1._metrics[\"accuracy\"].train_vals, label=\"Train\")\n",
    "plt.plot(model1._metrics[\"accuracy\"].valid_vals, label=\"Valid\")\n",
    "plt.xlabel(\"Epochs\")\n",
    "plt.ylabel(\"Accuracy\")\n",
    "plt.legend()"
   ]
  },
  {
   "cell_type": "code",
   "execution_count": null,
   "id": "13",
   "metadata": {},
   "outputs": [],
   "source": []
  },
  {
   "cell_type": "code",
   "execution_count": null,
   "id": "14",
   "metadata": {},
   "outputs": [],
   "source": [
    "plt.plot(model1._loss_metric.train_vals)\n",
    "plt.plot(model1._loss_metric.valid_vals)"
   ]
  },
  {
   "cell_type": "code",
   "execution_count": null,
   "id": "15",
   "metadata": {},
   "outputs": [],
   "source": []
  },
  {
   "cell_type": "code",
   "execution_count": null,
   "id": "16",
   "metadata": {},
   "outputs": [],
   "source": []
  }
 ],
 "metadata": {
  "kernelspec": {
   "display_name": "Python 3 (ipykernel)",
   "language": "python",
   "name": "python3"
  },
  "language_info": {
   "codemirror_mode": {
    "name": "ipython",
    "version": 3
   },
   "file_extension": ".py",
   "mimetype": "text/x-python",
   "name": "python",
   "nbconvert_exporter": "python",
   "pygments_lexer": "ipython3",
   "version": "3.12.11"
  }
 },
 "nbformat": 4,
 "nbformat_minor": 5
}
