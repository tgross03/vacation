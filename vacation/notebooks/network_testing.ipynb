{
 "cells": [
  {
   "cell_type": "code",
   "execution_count": 1,
   "id": "14",
   "metadata": {},
   "outputs": [],
   "source": [
    "from vacation.model import VCNN\n",
    "from vacation.data import GalaxyDataset\n",
    "import torch\n",
    "from torchinfo import summary"
   ]
  },
  {
   "cell_type": "code",
   "execution_count": 2,
   "id": "2ce90edf-9f4f-4b06-8c51-d8af68d651df",
   "metadata": {},
   "outputs": [],
   "source": [
    "train_ds = GalaxyDataset(\n",
    "    path=\"../../.data/Galaxy10_DECals_train.h5\", device=\"cuda\", max_cache_size=\"7G\", cache_loaded=False,\n",
    ")\n",
    "valid_ds = GalaxyDataset(\n",
    "    path=\"../../.data/Galaxy10_DECals_train.h5\", device=\"cuda\", max_cache_size=\"2G\", cache_loaded=False,\n",
    ")"
   ]
  },
  {
   "cell_type": "code",
   "execution_count": 3,
   "id": "b3e6b479-9d57-49fe-9cf2-9bfd8b11962b",
   "metadata": {},
   "outputs": [],
   "source": [
    "model = VCNN(\n",
    "    img_size=256,\n",
    "    num_labels=10,\n",
    "    train_batch_size=256,\n",
    "    valid_batch_size=256,\n",
    "    out_channels=[4, 8, 10],\n",
    "    dropout_rates=[0, 0, 0],\n",
    "    lin_out_features=[300, 100],\n",
    "    optimizer=torch.optim.AdamW,\n",
    "    activation_func=torch.nn.PReLU,\n",
    "    metrics={},\n",
    "    learning_rate=0.005,\n",
    "    loss_func=torch.nn.CrossEntropyLoss\n",
    ")"
   ]
  },
  {
   "cell_type": "code",
   "execution_count": 4,
   "id": "827678c3-5e58-4cbd-b38b-fd65fd54d48e",
   "metadata": {},
   "outputs": [
    {
     "data": {
      "application/vnd.jupyter.widget-view+json": {
       "model_id": "8b239859d2cd4d7fb7ad3f730895992b",
       "version_major": 2,
       "version_minor": 0
      },
      "text/plain": [
       "Training epoch 1:   0%|          | 0/66 [00:00<?, ?it/s]"
      ]
     },
     "metadata": {},
     "output_type": "display_data"
    },
    {
     "name": "stderr",
     "output_type": "stream",
     "text": [
      "\n",
      "KeyboardInterrupt\n",
      "\n"
     ]
    }
   ],
   "source": [
    "model.train_epochs(n_epochs=10, train_dataset=train_ds, valid_dataset=valid_ds)"
   ]
  },
  {
   "cell_type": "code",
   "execution_count": 23,
   "id": "c5792252-53cf-41e3-a47d-2a3300fea16b",
   "metadata": {},
   "outputs": [
    {
     "data": {
      "text/plain": [
       "Metric(func=None, train_vals=tensor([]), valid_vals=tensor([]))"
      ]
     },
     "execution_count": 23,
     "metadata": {},
     "output_type": "execute_result"
    }
   ],
   "source": [
    "model._loss_metric"
   ]
  },
  {
   "cell_type": "code",
   "execution_count": 7,
   "id": "d7d817d6-4b60-427d-a9c1-4361c7e09e5a",
   "metadata": {},
   "outputs": [
    {
     "name": "stderr",
     "output_type": "stream",
     "text": [
      "/opt/conda/lib/python3.12/site-packages/torch/nn/functional.py:1545: UserWarning: dropout2d: Received a 3D input to dropout2d and assuming that channel-wise 1D dropout behavior is desired - input is interpreted as shape (N, C, L), where C is the channel dim. This behavior will change in a future release to interpret the input as one without a batch dimension, i.e. shape (C, H, W). To maintain the 1D channel-wise dropout behavior, please switch to using dropout1d instead.\n",
      "  warnings.warn(\n"
     ]
    },
    {
     "data": {
      "text/plain": [
       "==========================================================================================\n",
       "Layer (type:depth-idx)                   Output Shape              Param #\n",
       "==========================================================================================\n",
       "VCNN                                     [10, 10]                  --\n",
       "├─Sequential: 1-1                        [10, 10]                  --\n",
       "│    └─Conv2d: 2-1                       [4, 254, 254]             112\n",
       "│    └─PReLU: 2-2                        [4, 254, 254]             1\n",
       "│    └─Dropout2d: 2-3                    [4, 254, 254]             --\n",
       "│    └─AvgPool2d: 2-4                    [4, 127, 127]             --\n",
       "│    └─Conv2d: 2-5                       [8, 125, 125]             296\n",
       "│    └─PReLU: 2-6                        [8, 125, 125]             1\n",
       "│    └─Dropout2d: 2-7                    [8, 125, 125]             --\n",
       "│    └─MaxPool2d: 2-8                    [8, 62, 62]               --\n",
       "│    └─Conv2d: 2-9                       [10, 60, 60]              730\n",
       "│    └─PReLU: 2-10                       [10, 60, 60]              1\n",
       "│    └─Dropout2d: 2-11                   [10, 60, 60]              --\n",
       "│    └─MaxPool2d: 2-12                   [10, 30, 30]              --\n",
       "│    └─Flatten: 2-13                     [10, 900]                 --\n",
       "│    └─Linear: 2-14                      [10, 300]                 270,300\n",
       "│    └─PReLU: 2-15                       [10, 300]                 1\n",
       "│    └─Linear: 2-16                      [10, 100]                 30,100\n",
       "│    └─PReLU: 2-17                       [10, 100]                 1\n",
       "│    └─Linear: 2-18                      [10, 10]                  1,010\n",
       "==========================================================================================\n",
       "Total params: 302,553\n",
       "Trainable params: 302,553\n",
       "Non-trainable params: 0\n",
       "Total mult-adds (Units.MEGABYTES): 3.86\n",
       "==========================================================================================\n",
       "Input size (MB): 0.79\n",
       "Forward/backward pass size (MB): 6.77\n",
       "Params size (MB): 1.21\n",
       "Estimated Total Size (MB): 8.77\n",
       "=========================================================================================="
      ]
     },
     "execution_count": 7,
     "metadata": {},
     "output_type": "execute_result"
    }
   ],
   "source": [
    "summary(model, (3, 256, 256))"
   ]
  },
  {
   "cell_type": "code",
   "execution_count": null,
   "id": "32f79893-a4ec-4c39-b069-dd3e1941a524",
   "metadata": {},
   "outputs": [],
   "source": []
  }
 ],
 "metadata": {
  "kernelspec": {
   "display_name": "Python 3 (ipykernel)",
   "language": "python",
   "name": "python3"
  },
  "language_info": {
   "codemirror_mode": {
    "name": "ipython",
    "version": 3
   },
   "file_extension": ".py",
   "mimetype": "text/x-python",
   "name": "python",
   "nbconvert_exporter": "python",
   "pygments_lexer": "ipython3",
   "version": "3.12.2"
  }
 },
 "nbformat": 4,
 "nbformat_minor": 5
}
