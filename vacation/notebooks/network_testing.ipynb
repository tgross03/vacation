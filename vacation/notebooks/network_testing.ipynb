{
 "cells": [
  {
   "cell_type": "code",
   "execution_count": null,
   "id": "0",
   "metadata": {},
   "outputs": [],
   "source": [
    "from vacation.model import VCNN\n",
    "from vacation.data import GalaxyDataset\n",
    "import torch\n",
    "from torchinfo import summary"
   ]
  },
  {
   "cell_type": "code",
   "execution_count": null,
   "id": "1",
   "metadata": {},
   "outputs": [],
   "source": [
    "train_ds = GalaxyDataset(\n",
    "    path=\"../../.data/Galaxy10_DECals_train.h5\",\n",
    "    device=\"cuda\",\n",
    "    max_cache_size=\"7G\",\n",
    "    cache_loaded=False,\n",
    ")\n",
    "valid_ds = GalaxyDataset(\n",
    "    path=\"../../.data/Galaxy10_DECals_train.h5\",\n",
    "    device=\"cuda\",\n",
    "    max_cache_size=\"2G\",\n",
    "    cache_loaded=False,\n",
    ")"
   ]
  },
  {
   "cell_type": "code",
   "execution_count": null,
   "id": "2",
   "metadata": {},
   "outputs": [],
   "source": [
    "model = VCNN(\n",
    "    img_size=256,\n",
    "    num_labels=10,\n",
    "    train_batch_size=256,\n",
    "    valid_batch_size=256,\n",
    "    out_channels=[4, 8, 10],\n",
    "    dropout_rates=[0, 0, 0],\n",
    "    lin_out_features=[300, 100],\n",
    "    optimizer=torch.optim.AdamW,\n",
    "    activation_func=torch.nn.PReLU,\n",
    "    metrics={},\n",
    "    learning_rate=0.005,\n",
    "    loss_func=torch.nn.CrossEntropyLoss,\n",
    ")"
   ]
  },
  {
   "cell_type": "code",
   "execution_count": null,
   "id": "3",
   "metadata": {},
   "outputs": [],
   "source": [
    "model.train_epochs(n_epochs=10, train_dataset=train_ds, valid_dataset=valid_ds)"
   ]
  },
  {
   "cell_type": "code",
   "execution_count": null,
   "id": "4",
   "metadata": {},
   "outputs": [],
   "source": [
    "model._loss_metric"
   ]
  },
  {
   "cell_type": "code",
   "execution_count": null,
   "id": "5",
   "metadata": {},
   "outputs": [],
   "source": [
    "summary(model, (3, 256, 256))"
   ]
  },
  {
   "cell_type": "code",
   "execution_count": null,
   "id": "6",
   "metadata": {},
   "outputs": [],
   "source": []
  }
 ],
 "metadata": {
  "kernelspec": {
   "display_name": "Python 3 (ipykernel)",
   "language": "python",
   "name": "python3"
  },
  "language_info": {
   "codemirror_mode": {
    "name": "ipython",
    "version": 3
   },
   "file_extension": ".py",
   "mimetype": "text/x-python",
   "name": "python",
   "nbconvert_exporter": "python",
   "pygments_lexer": "ipython3",
   "version": "3.12.2"
  }
 },
 "nbformat": 4,
 "nbformat_minor": 5
}
