{
 "cells": [
  {
   "cell_type": "code",
   "execution_count": null,
   "id": "0",
   "metadata": {},
   "outputs": [],
   "source": [
    "from vacation.model import VCNN\n",
    "from vacation.data import GalaxyDataset\n",
    "import numpy as np\n",
    "import torch\n",
    "\n",
    "rng = np.random.default_rng(1337)"
   ]
  },
  {
   "cell_type": "code",
   "execution_count": null,
   "id": "1",
   "metadata": {},
   "outputs": [],
   "source": [
    "train_ds = GalaxyDataset(\n",
    "    path=\"/scratch/tgross/vacation_data/Galaxy10_DECals_train.h5\",\n",
    "    device=\"cuda:1\",\n",
    "    max_cache_size=\"15G\",\n",
    "    cache_loaded=True,\n",
    "    index_collection=rng.integers(0, 16813, 6000),\n",
    ")"
   ]
  },
  {
   "cell_type": "code",
   "execution_count": null,
   "id": "2",
   "metadata": {},
   "outputs": [],
   "source": [
    "valid_ds = GalaxyDataset(\n",
    "    path=\"/scratch/tgross/vacation_data/Galaxy10_DECals_valid.h5\",\n",
    "    device=\"cuda:1\",\n",
    "    max_cache_size=\"4G\",\n",
    "    cache_loaded=True,\n",
    "    index_collection=rng.integers(0, 4204, 1000),\n",
    ")"
   ]
  },
  {
   "cell_type": "code",
   "execution_count": null,
   "id": "3",
   "metadata": {},
   "outputs": [],
   "source": [
    "train_ds.plot_distribution()\n",
    "valid_ds.plot_distribution()"
   ]
  },
  {
   "cell_type": "code",
   "execution_count": null,
   "id": "4",
   "metadata": {},
   "outputs": [],
   "source": [
    "model = VCNN(\n",
    "    train_batch_size=64,\n",
    "    valid_batch_size=64,\n",
    "    out_channels=[4, 8, 10],\n",
    "    dropout_rates=[0.0, 0.0, 0.0],\n",
    "    lin_out_features=[300, 100],\n",
    "    optimizer=torch.optim.AdamW,\n",
    "    activation_func=torch.nn.PReLU,\n",
    "    learning_rate=0.001,\n",
    "    weight_decay=0.01,\n",
    "    loss_func=torch.nn.CrossEntropyLoss,\n",
    "    device=\"cuda:1\",\n",
    ")\n",
    "model.init_data(train_dataset=train_ds, valid_dataset=valid_ds)"
   ]
  },
  {
   "cell_type": "code",
   "execution_count": null,
   "id": "5",
   "metadata": {},
   "outputs": [],
   "source": [
    "model.train_epochs(n_epochs=40)"
   ]
  },
  {
   "cell_type": "code",
   "execution_count": null,
   "id": "6",
   "metadata": {},
   "outputs": [],
   "source": [
    "model.save_state(\".models/model2.pt\", relative_to_package=True)"
   ]
  },
  {
   "cell_type": "code",
   "execution_count": null,
   "id": "7",
   "metadata": {},
   "outputs": [],
   "source": [
    "model1 = VCNN.load(\n",
    "    \"model2.pt\",\n",
    "    optimizer=torch.optim.AdamW,\n",
    "    activation_func=torch.nn.PReLU,\n",
    "    loss_func=torch.nn.CrossEntropyLoss,\n",
    ")"
   ]
  },
  {
   "cell_type": "code",
   "execution_count": null,
   "id": "8",
   "metadata": {},
   "outputs": [],
   "source": [
    "import matplotlib.pyplot as plt"
   ]
  },
  {
   "cell_type": "code",
   "execution_count": null,
   "id": "9",
   "metadata": {},
   "outputs": [],
   "source": [
    "plt.plot(model1._metrics[\"accuracy\"].train_vals, label=\"Train\")\n",
    "plt.plot(model1._metrics[\"accuracy\"].valid_vals, label=\"Valid\")\n",
    "plt.xlabel(\"Epochs\")\n",
    "plt.ylabel(\"Accuracy\")\n",
    "plt.legend()"
   ]
  },
  {
   "cell_type": "code",
   "execution_count": null,
   "id": "10",
   "metadata": {},
   "outputs": [],
   "source": [
    "plt.plot(model1._loss_metric.train_vals)\n",
    "plt.plot(model1._loss_metric.valid_vals)"
   ]
  },
  {
   "cell_type": "code",
   "execution_count": null,
   "id": "11",
   "metadata": {},
   "outputs": [],
   "source": []
  },
  {
   "cell_type": "code",
   "execution_count": null,
   "id": "12",
   "metadata": {},
   "outputs": [],
   "source": []
  }
 ],
 "metadata": {
  "kernelspec": {
   "display_name": "Python 3 (ipykernel)",
   "language": "python",
   "name": "python3"
  },
  "language_info": {
   "codemirror_mode": {
    "name": "ipython",
    "version": 3
   },
   "file_extension": ".py",
   "mimetype": "text/x-python",
   "name": "python",
   "nbconvert_exporter": "python",
   "pygments_lexer": "ipython3",
   "version": "3.12.11"
  }
 },
 "nbformat": 4,
 "nbformat_minor": 5
}
