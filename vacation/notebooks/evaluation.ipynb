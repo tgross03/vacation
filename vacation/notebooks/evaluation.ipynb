{
 "cells": [
  {
   "cell_type": "code",
   "execution_count": null,
   "id": "0",
   "metadata": {},
   "outputs": [],
   "source": [
    "import numpy as np\n",
    "from vacation.data import GalaxyDataset, CLASS_NAMES\n",
    "from vacation.evaluation.visualizations import plot_example_matrix\n",
    "from vacation.evaluation.optimization_results import (\n",
    "    get_best_trial,\n",
    "    get_model_from_trial,\n",
    ")\n",
    "\n",
    "from sklearn.metrics import ConfusionMatrixDisplay"
   ]
  },
  {
   "cell_type": "code",
   "execution_count": null,
   "id": "1",
   "metadata": {},
   "outputs": [],
   "source": [
    "dataset = GalaxyDataset(\n",
    "    \"/scratch/tgross/vacation_data/reduced_size/Galaxy10_DECals_valid.h5\",\n",
    "    device=\"cuda:1\",\n",
    "    index_collection=np.random.randint(0, 4204, 1200),\n",
    ")"
   ]
  },
  {
   "cell_type": "code",
   "execution_count": null,
   "id": "2",
   "metadata": {},
   "outputs": [],
   "source": [
    "best_trial, study = get_best_trial(\n",
    "    storage_path=\"../scripts/vacation.sqlite3\",\n",
    "    study_name=\"vacation_v2\",\n",
    "    return_study=True,\n",
    ")\n",
    "model = get_model_from_trial(\n",
    "    trial=best_trial,\n",
    "    checkpoint_dir=\"/scratch/tgross/vacation_models/artifacts/\",\n",
    "    download_path=\"./build/vacation_v2.pt\",\n",
    "    overwrite=True,\n",
    ")"
   ]
  },
  {
   "cell_type": "code",
   "execution_count": null,
   "id": "3",
   "metadata": {},
   "outputs": [],
   "source": [
    "y_pred, y_true = model.predict_dataset(dataset=dataset, return_true=True)"
   ]
  },
  {
   "cell_type": "code",
   "execution_count": null,
   "id": "4",
   "metadata": {},
   "outputs": [],
   "source": [
    "np.sum((y_pred == y_true).cpu().numpy()) / len(y_true)"
   ]
  },
  {
   "cell_type": "code",
   "execution_count": null,
   "id": "5",
   "metadata": {},
   "outputs": [],
   "source": [
    "example_matrix(\n",
    "    dataset=dataset,\n",
    "    y_pred=y_pred.cpu().numpy(),\n",
    "    layout=(3, 3),\n",
    "    figsize=(7, 7),\n",
    "    seed=1337,\n",
    "    save_path=\"./build/examples.png\",\n",
    ")"
   ]
  },
  {
   "cell_type": "code",
   "execution_count": null,
   "id": "6",
   "metadata": {},
   "outputs": [],
   "source": [
    "CLASS_NAMES"
   ]
  },
  {
   "cell_type": "code",
   "execution_count": null,
   "id": "7",
   "metadata": {},
   "outputs": [],
   "source": [
    "from optuna.importance import get_param_importances\n",
    "import matplotlib.pyplot as plt"
   ]
  },
  {
   "cell_type": "code",
   "execution_count": null,
   "id": "8",
   "metadata": {},
   "outputs": [],
   "source": [
    "param_importances = get_param_importances(study=study)"
   ]
  },
  {
   "cell_type": "code",
   "execution_count": null,
   "id": "9",
   "metadata": {},
   "outputs": [],
   "source": [
    "fig, ax = plt.subplots(figsize=(3, 6))\n",
    "ax.barh(\n",
    "    y=list(param_importances.keys())[::-1],\n",
    "    width=list(param_importances.values())[::-1],\n",
    "    color=\"#e64553\",\n",
    "    log=True,\n",
    ")\n",
    "ax.set_xlabel(\"fANOVA Importance Score\")\n",
    "ax.set_ylabel(\"Hyperparameter\")"
   ]
  },
  {
   "cell_type": "code",
   "execution_count": null,
   "id": "10",
   "metadata": {},
   "outputs": [],
   "source": []
  }
 ],
 "metadata": {
  "kernelspec": {
   "display_name": "Python 3 (ipykernel)",
   "language": "python",
   "name": "python3"
  },
  "language_info": {
   "codemirror_mode": {
    "name": "ipython",
    "version": 3
   },
   "file_extension": ".py",
   "mimetype": "text/x-python",
   "name": "python",
   "nbconvert_exporter": "python",
   "pygments_lexer": "ipython3",
   "version": "3.12.11"
  }
 },
 "nbformat": 4,
 "nbformat_minor": 5
}
