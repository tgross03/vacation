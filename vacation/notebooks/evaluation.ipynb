{
 "cells": [
  {
   "cell_type": "code",
   "execution_count": null,
   "id": "0",
   "metadata": {},
   "outputs": [],
   "source": [
    "import numpy as np\n",
    "from vacation.data import GalaxyDataset, CLASS_NAMES\n",
    "from vacation.evaluation.visualizations import (\n",
    "    plot_example_matrix,\n",
    "    plot_confusion_matrix,\n",
    "    plot_hyperparameter_importance,\n",
    ")\n",
    "from vacation.evaluation.optimization_results import (\n",
    "    get_best_trial,\n",
    "    get_model_from_trial,\n",
    ")\n",
    "\n",
    "import matplotlib.pyplot as plt\n",
    "\n",
    "from sklearn.metrics import classification_report, accuracy_score"
   ]
  },
  {
   "cell_type": "code",
   "execution_count": null,
   "id": "1",
   "metadata": {},
   "outputs": [],
   "source": [
    "dataset = GalaxyDataset(\n",
    "    \"/scratch/tgross/vacation_data/reduced_size/Galaxy10_DECals_proc_test.h5\",\n",
    "    device=\"cuda:1\",\n",
    "    cache_loaded=True,\n",
    ")"
   ]
  },
  {
   "cell_type": "code",
   "execution_count": null,
   "id": "2",
   "metadata": {},
   "outputs": [],
   "source": [
    "dataset.plot_distribution()"
   ]
  },
  {
   "cell_type": "code",
   "execution_count": null,
   "id": "3",
   "metadata": {},
   "outputs": [],
   "source": [
    "best_trial, study = get_best_trial(\n",
    "    storage_path=\"../scripts/vacation.sqlite3\",\n",
    "    study_name=\"vacation_v2\",\n",
    "    return_study=True,\n",
    ")\n",
    "model = get_model_from_trial(\n",
    "    trial=best_trial,\n",
    "    checkpoint_dir=\"/scratch/tgross/vacation_models/artifacts/\",\n",
    "    download_path=\"./build/vacation_v2.pt\",\n",
    "    overwrite=True,\n",
    ")"
   ]
  },
  {
   "cell_type": "code",
   "execution_count": null,
   "id": "4",
   "metadata": {},
   "outputs": [],
   "source": [
    "y_pred, y_true = model.predict_dataset(dataset=dataset, return_true=True)"
   ]
  },
  {
   "cell_type": "code",
   "execution_count": null,
   "id": "5",
   "metadata": {},
   "outputs": [],
   "source": [
    "print(classification_report(y_true=y_true.cpu().numpy(), y_pred=y_pred.cpu().numpy()))"
   ]
  },
  {
   "cell_type": "code",
   "execution_count": null,
   "id": "6",
   "metadata": {},
   "outputs": [],
   "source": [
    "accuracy_score(y_true=y_true.cpu().numpy(), y_pred=y_pred.cpu().numpy())"
   ]
  },
  {
   "cell_type": "code",
   "execution_count": null,
   "id": "7",
   "metadata": {},
   "outputs": [],
   "source": [
    "plot_example_matrix(\n",
    "    dataset=dataset,\n",
    "    y_pred=y_pred,\n",
    "    layout=(3, 3),\n",
    "    figsize=(7, 7),\n",
    "    seed=42,\n",
    "    save_path=\"./build/examples.png\",\n",
    ")"
   ]
  },
  {
   "cell_type": "code",
   "execution_count": null,
   "id": "8",
   "metadata": {},
   "outputs": [],
   "source": [
    "plot_confusion_matrix(y_true=y_true, y_pred=y_pred, normalize=True)"
   ]
  },
  {
   "cell_type": "code",
   "execution_count": null,
   "id": "9",
   "metadata": {},
   "outputs": [],
   "source": [
    "CLASS_NAMES"
   ]
  },
  {
   "cell_type": "code",
   "execution_count": null,
   "id": "10",
   "metadata": {},
   "outputs": [],
   "source": [
    "plot_hyperparameter_importance(\n",
    "    study=study,\n",
    "    log=False,\n",
    ")"
   ]
  },
  {
   "cell_type": "code",
   "execution_count": null,
   "id": "11",
   "metadata": {},
   "outputs": [],
   "source": [
    "model.summarize()"
   ]
  },
  {
   "cell_type": "code",
   "execution_count": null,
   "id": "12",
   "metadata": {},
   "outputs": [],
   "source": []
  }
 ],
 "metadata": {
  "kernelspec": {
   "display_name": "Python 3 (ipykernel)",
   "language": "python",
   "name": "python3"
  },
  "language_info": {
   "codemirror_mode": {
    "name": "ipython",
    "version": 3
   },
   "file_extension": ".py",
   "mimetype": "text/x-python",
   "name": "python",
   "nbconvert_exporter": "python",
   "pygments_lexer": "ipython3",
   "version": "3.12.11"
  }
 },
 "nbformat": 4,
 "nbformat_minor": 5
}
