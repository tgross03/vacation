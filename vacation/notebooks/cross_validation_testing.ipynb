{
 "cells": [
  {
   "cell_type": "code",
   "execution_count": 1,
   "id": "0",
   "metadata": {},
   "outputs": [],
   "source": [
    "# from sklearn.model_selection import StratifiedKFold, train_test_split\n",
    "\n",
    "# from vacation.data import GalaxyDataset\n",
    "from vacation.data import train_test_split\n",
    "\n",
    "# from torch.utils.data import DataLoader\n",
    "# import torch\n",
    "\n",
    "# import matplotlib.pyplot as plt\n",
    "\n",
    "# from tqdm.auto import tqdm"
   ]
  },
  {
   "cell_type": "code",
   "execution_count": 2,
   "id": "1",
   "metadata": {},
   "outputs": [
    {
     "name": "stdout",
     "output_type": "stream",
     "text": [
      "Splitted index arrays: train -> 20858 | test -> 5215\n",
      "Training dataset already exists. Skipping creation. Set 'overwrite = True' to overwrite!\n"
     ]
    },
    {
     "data": {
      "application/vnd.jupyter.widget-view+json": {
       "model_id": "aad9d8418ead41bcb72487dd46d5cea5",
       "version_major": 2,
       "version_minor": 0
      },
      "text/plain": [
       "Saving test data:   0%|          | 0/21 [00:00<?, ?it/s]"
      ]
     },
     "metadata": {},
     "output_type": "display_data"
    },
    {
     "data": {
      "text/plain": [
       "(PosixPath('../../.data/Galaxy10_DECals_augmented_train.h5'),\n",
       " PosixPath('../../.data/Galaxy10_DECals_augmented_test.h5'))"
      ]
     },
     "execution_count": 2,
     "metadata": {},
     "output_type": "execute_result"
    }
   ],
   "source": [
    "train_test_split(\n",
    "    path=\"../../.data/Galaxy10_DECals_augmented.h5\",\n",
    "    test_size=0.2,\n",
    "    random_state=42,\n",
    "    shuffle=True,\n",
    "    stratify=True,\n",
    "    pack_size=1000,\n",
    "    overwrite=False,\n",
    ")"
   ]
  },
  {
   "cell_type": "code",
   "execution_count": 3,
   "id": "2",
   "metadata": {},
   "outputs": [],
   "source": [
    "import h5py\n",
    "import numpy as np\n",
    "import matplotlib.pyplot as plt"
   ]
  },
  {
   "cell_type": "code",
   "execution_count": 8,
   "id": "3",
   "metadata": {},
   "outputs": [],
   "source": [
    "file = h5py.File(\"../../.data/Galaxy10_DECals_augmented_test.h5\", \"r\")"
   ]
  },
  {
   "cell_type": "code",
   "execution_count": 9,
   "id": "e6dcbd3f-8193-45a4-b54a-ecf4be213de8",
   "metadata": {},
   "outputs": [
    {
     "data": {
      "text/plain": [
       "(5215, 256, 256, 3)"
      ]
     },
     "execution_count": 9,
     "metadata": {},
     "output_type": "execute_result"
    }
   ],
   "source": [
    "file[\"images\"].shape"
   ]
  },
  {
   "cell_type": "code",
   "execution_count": 10,
   "id": "66d7b042-c64e-40f9-a575-2540515434d3",
   "metadata": {},
   "outputs": [
    {
     "data": {
      "text/plain": [
       "(5215,)"
      ]
     },
     "execution_count": 10,
     "metadata": {},
     "output_type": "execute_result"
    }
   ],
   "source": [
    "file[\"ans\"].shape"
   ]
  },
  {
   "cell_type": "code",
   "execution_count": null,
   "id": "3d0ac34f-51dd-4db7-a3c9-b794bb28ad9a",
   "metadata": {},
   "outputs": [],
   "source": []
  }
 ],
 "metadata": {
  "kernelspec": {
   "display_name": "Python 3 (ipykernel)",
   "language": "python",
   "name": "python3"
  },
  "language_info": {
   "codemirror_mode": {
    "name": "ipython",
    "version": 3
   },
   "file_extension": ".py",
   "mimetype": "text/x-python",
   "name": "python",
   "nbconvert_exporter": "python",
   "pygments_lexer": "ipython3",
   "version": "3.12.2"
  }
 },
 "nbformat": 4,
 "nbformat_minor": 5
}
