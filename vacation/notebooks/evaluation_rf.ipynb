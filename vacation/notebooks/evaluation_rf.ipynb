{
 "cells": [
  {
   "cell_type": "code",
   "execution_count": null,
   "id": "0",
   "metadata": {},
   "outputs": [],
   "source": [
    "import joblib\n",
    "from sklearn.ensemble import RandomForestClassifier\n",
    "from vacation.data import GalaxyDataset, CLASS_NAMES\n",
    "\n",
    "from vacation.evaluation.visualizations import (\n",
    "    plot_example_matrix,\n",
    "    plot_confusion_matrix,\n",
    "    plot_hyperparameter_importance,\n",
    ")\n",
    "\n",
    "import torch\n",
    "\n",
    "from vacation.model.random_forest import hog_features\n",
    "\n",
    "from tqdm.auto import tqdm\n",
    "\n",
    "from sklearn.metrics import classification_report, accuracy_score"
   ]
  },
  {
   "cell_type": "code",
   "execution_count": null,
   "id": "1",
   "metadata": {},
   "outputs": [],
   "source": [
    "rf = joblib.load(\"../../best_models/rf_optimized.sav\")\n",
    "rf"
   ]
  },
  {
   "cell_type": "code",
   "execution_count": null,
   "id": "2",
   "metadata": {},
   "outputs": [],
   "source": [
    "dataset = GalaxyDataset(\n",
    "    \"/scratch/tgross/vacation_data/reduced_size/Galaxy10_DECals_proc_test.h5\",\n",
    "    device=\"cpu\",\n",
    "    cache_loaded=True,\n",
    ")\n",
    "\n",
    "features_no_preprocess, _, _ = hog_features(dataset, augmented=False)\n",
    "features, _, _ = hog_features(dataset, augmented=True)"
   ]
  },
  {
   "cell_type": "code",
   "execution_count": null,
   "id": "3",
   "metadata": {},
   "outputs": [],
   "source": [
    "y_pred_no_preprocess = rf.predict(features_no_preprocess)\n",
    "y_pred = rf.predict(features)"
   ]
  },
  {
   "cell_type": "code",
   "execution_count": null,
   "id": "4",
   "metadata": {},
   "outputs": [],
   "source": [
    "y_true = dataset.get_labels()"
   ]
  },
  {
   "cell_type": "code",
   "execution_count": null,
   "id": "5",
   "metadata": {},
   "outputs": [],
   "source": [
    "print(\"REPORT - WITHOUT PREPROCESS\")\n",
    "print(classification_report(y_true=y_true.cpu().numpy(), y_pred=y_pred_no_preprocess))"
   ]
  },
  {
   "cell_type": "code",
   "execution_count": null,
   "id": "6",
   "metadata": {},
   "outputs": [],
   "source": [
    "print(\"REPORT - WITH PREPROCESS\")\n",
    "print(classification_report(y_true=y_true.cpu().numpy(), y_pred=y_pred))"
   ]
  },
  {
   "cell_type": "code",
   "execution_count": null,
   "id": "7",
   "metadata": {},
   "outputs": [],
   "source": [
    "print(\"CONFUSION MATRIX - WITHOUT PREPROCESS\")\n",
    "plot_confusion_matrix(\n",
    "    y_true=y_true, y_pred=torch.from_numpy(y_pred_no_preprocess), normalize=True\n",
    ")"
   ]
  },
  {
   "cell_type": "code",
   "execution_count": null,
   "id": "8",
   "metadata": {},
   "outputs": [],
   "source": [
    "print(\"CONFUSION MATRIX - WITH PREPROCESS\")\n",
    "plot_confusion_matrix(y_true=y_true, y_pred=torch.from_numpy(y_pred), normalize=True)"
   ]
  },
  {
   "cell_type": "code",
   "execution_count": null,
   "id": "9",
   "metadata": {},
   "outputs": [],
   "source": [
    "plot_example_matrix(\n",
    "    dataset=dataset,\n",
    "    y_pred=torch.from_numpy(y_pred),\n",
    "    layout=(3, 3),\n",
    "    figsize=(7, 7),\n",
    "    seed=42,\n",
    "    save_path=\"./build/examples.png\",\n",
    ")"
   ]
  },
  {
   "cell_type": "code",
   "execution_count": null,
   "id": "10",
   "metadata": {},
   "outputs": [],
   "source": []
  }
 ],
 "metadata": {
  "kernelspec": {
   "display_name": "Python 3 (ipykernel)",
   "language": "python",
   "name": "python3"
  },
  "language_info": {
   "codemirror_mode": {
    "name": "ipython",
    "version": 3
   },
   "file_extension": ".py",
   "mimetype": "text/x-python",
   "name": "python",
   "nbconvert_exporter": "python",
   "pygments_lexer": "ipython3",
   "version": "3.12.11"
  }
 },
 "nbformat": 4,
 "nbformat_minor": 5
}
