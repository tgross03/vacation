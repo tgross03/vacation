{
 "cells": [
  {
   "cell_type": "code",
   "execution_count": null,
   "id": "0",
   "metadata": {},
   "outputs": [],
   "source": [
    "from vacation.model import VCNN\n",
    "\n",
    "import optuna\n",
    "from optuna.artifacts import FileSystemArtifactStore, download_artifact, upload_artifact\n",
    "from optuna.storages import RetryFailedTrialCallback\n",
    "\n",
    "import matplotlib.pyplot as plt"
   ]
  },
  {
   "cell_type": "code",
   "execution_count": null,
   "id": "1",
   "metadata": {},
   "outputs": [],
   "source": [
    "CHECKPOINT_DIR = \"/scratch/tgross/vacation_models/artifacts\"\n",
    "\n",
    "artifact_store = FileSystemArtifactStore(base_path=CHECKPOINT_DIR)\n",
    "\n",
    "storage = optuna.storages.RDBStorage(\n",
    "    \"sqlite:///../scripts/vacation.sqlite3\",\n",
    "    heartbeat_interval=1,\n",
    "    failed_trial_callback=RetryFailedTrialCallback(),\n",
    ")"
   ]
  },
  {
   "cell_type": "code",
   "execution_count": null,
   "id": "2",
   "metadata": {},
   "outputs": [],
   "source": [
    "storage.get_all_studies()"
   ]
  },
  {
   "cell_type": "code",
   "execution_count": null,
   "id": "3",
   "metadata": {},
   "outputs": [],
   "source": [
    "study = optuna.load_study(study_name=\"vacation\", storage=storage)\n",
    "best_artifact = f\"./artifact-{study.best_trial.number}.pt\""
   ]
  },
  {
   "cell_type": "code",
   "execution_count": null,
   "id": "4",
   "metadata": {},
   "outputs": [],
   "source": [
    "try:\n",
    "    download_artifact(\n",
    "        artifact_store=artifact_store,\n",
    "        file_path=best_artifact,\n",
    "        artifact_id=study.best_trial.user_attrs[\"artifact_id\"],\n",
    "    )\n",
    "except FileExistsError:\n",
    "    pass"
   ]
  },
  {
   "cell_type": "code",
   "execution_count": null,
   "id": "5",
   "metadata": {},
   "outputs": [],
   "source": [
    "model = VCNN.load(path=best_artifact)"
   ]
  },
  {
   "cell_type": "code",
   "execution_count": null,
   "id": "6",
   "metadata": {},
   "outputs": [],
   "source": [
    "model.plot_metric(key=\"accuracy\")"
   ]
  },
  {
   "cell_type": "code",
   "execution_count": null,
   "id": "7",
   "metadata": {},
   "outputs": [],
   "source": [
    "plt.plot(model._metrics[\"accuracy\"].train_vals, label=\"Train\")\n",
    "plt.plot(model._metrics[\"accuracy\"].valid_vals, label=\"Valid\")\n",
    "plt.xlabel(\"Epochs\")\n",
    "plt.ylabel(\"Accuracy\")\n",
    "plt.legend()"
   ]
  },
  {
   "cell_type": "code",
   "execution_count": null,
   "id": "8",
   "metadata": {},
   "outputs": [],
   "source": [
    "plt.plot(model._loss_metric.train_vals, label=\"Train\")\n",
    "plt.plot(model._loss_metric.valid_vals, label=\"Valid\")\n",
    "plt.xlabel(\"Epochs\")\n",
    "plt.ylabel(\"Loss\")\n",
    "plt.legend()"
   ]
  },
  {
   "cell_type": "code",
   "execution_count": null,
   "id": "9",
   "metadata": {},
   "outputs": [],
   "source": []
  }
 ],
 "metadata": {
  "kernelspec": {
   "display_name": "Python 3 (ipykernel)",
   "language": "python",
   "name": "python3"
  },
  "language_info": {
   "codemirror_mode": {
    "name": "ipython",
    "version": 3
   },
   "file_extension": ".py",
   "mimetype": "text/x-python",
   "name": "python",
   "nbconvert_exporter": "python",
   "pygments_lexer": "ipython3",
   "version": "3.12.11"
  }
 },
 "nbformat": 4,
 "nbformat_minor": 5
}
