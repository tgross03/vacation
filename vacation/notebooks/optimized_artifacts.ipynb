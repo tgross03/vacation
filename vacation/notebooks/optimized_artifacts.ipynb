{
 "cells": [
  {
   "cell_type": "code",
   "execution_count": null,
   "id": "0",
   "metadata": {},
   "outputs": [],
   "source": [
    "from vacation.model import VCNN\n",
    "\n",
    "import optuna\n",
    "from optuna.artifacts import FileSystemArtifactStore, download_artifact, upload_artifact\n",
    "from optuna.storages import RetryFailedTrialCallback"
   ]
  },
  {
   "cell_type": "code",
   "execution_count": null,
   "id": "1",
   "metadata": {},
   "outputs": [],
   "source": [
    "CHECKPOINT_DIR = \"/scratch/tgross/vacation_models/artifacts\"\n",
    "\n",
    "artifact_store = FileSystemArtifactStore(base_path=CHECKPOINT_DIR)\n",
    "\n",
    "storage = optuna.storages.RDBStorage(\n",
    "    \"sqlite:///../scripts/vacation.sqlite3\",\n",
    ")\n",
    "\n",
    "study = optuna.load_study(study_name=\"vacation_v2\", storage=storage)\n",
    "best_artifact = f\"./build/artifact-{study.best_trial.number}.pt\""
   ]
  },
  {
   "cell_type": "code",
   "execution_count": null,
   "id": "2",
   "metadata": {},
   "outputs": [],
   "source": [
    "try:\n",
    "    download_artifact(\n",
    "        artifact_store=artifact_store,\n",
    "        file_path=best_artifact,\n",
    "        artifact_id=study.best_trial.user_attrs[\"artifact_id\"],\n",
    "    )\n",
    "except FileExistsError:\n",
    "    pass"
   ]
  },
  {
   "cell_type": "code",
   "execution_count": null,
   "id": "3",
   "metadata": {},
   "outputs": [],
   "source": [
    "model = VCNN.load(path=best_artifact)"
   ]
  },
  {
   "cell_type": "code",
   "execution_count": null,
   "id": "4",
   "metadata": {},
   "outputs": [],
   "source": [
    "model.plot_metric(key=\"accuracy\")\n",
    "model.plot_metric(key=\"loss\")"
   ]
  },
  {
   "cell_type": "code",
   "execution_count": null,
   "id": "5",
   "metadata": {},
   "outputs": [],
   "source": [
    "type(study.best_trial)"
   ]
  },
  {
   "cell_type": "code",
   "execution_count": null,
   "id": "6",
   "metadata": {},
   "outputs": [],
   "source": []
  }
 ],
 "metadata": {
  "kernelspec": {
   "display_name": "Python 3 (ipykernel)",
   "language": "python",
   "name": "python3"
  },
  "language_info": {
   "codemirror_mode": {
    "name": "ipython",
    "version": 3
   },
   "file_extension": ".py",
   "mimetype": "text/x-python",
   "name": "python",
   "nbconvert_exporter": "python",
   "pygments_lexer": "ipython3",
   "version": "3.12.11"
  }
 },
 "nbformat": 4,
 "nbformat_minor": 5
}
