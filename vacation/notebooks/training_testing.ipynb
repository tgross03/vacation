{
 "cells": [
  {
   "cell_type": "code",
   "execution_count": null,
   "id": "0",
   "metadata": {},
   "outputs": [],
   "source": [
    "from vacation.model import VCNN\n",
    "from vacation.data import GalaxyDataset\n",
    "import numpy as np\n",
    "import torch\n",
    "\n",
    "import matplotlib.pyplot as plt\n",
    "\n",
    "rng = np.random.default_rng(1337)"
   ]
  },
  {
   "cell_type": "code",
   "execution_count": null,
   "id": "1",
   "metadata": {},
   "outputs": [],
   "source": [
    "train_ds = GalaxyDataset(\n",
    "    path=\"/scratch/tgross/vacation_data/Galaxy10_DECals_train.h5\",\n",
    "    device=\"cuda:1\",\n",
    "    max_cache_size=\"15G\",\n",
    "    cache_loaded=True,\n",
    "    index_collection=rng.integers(0, 16813, 10000),\n",
    ")"
   ]
  },
  {
   "cell_type": "code",
   "execution_count": null,
   "id": "2",
   "metadata": {},
   "outputs": [],
   "source": [
    "valid_ds = GalaxyDataset(\n",
    "    path=\"/scratch/tgross/vacation_data/Galaxy10_DECals_valid.h5\",\n",
    "    device=\"cuda:1\",\n",
    "    max_cache_size=\"4G\",\n",
    "    cache_loaded=True,\n",
    "    index_collection=rng.integers(0, 4204, 400),\n",
    ")"
   ]
  },
  {
   "cell_type": "code",
   "execution_count": null,
   "id": "3",
   "metadata": {},
   "outputs": [],
   "source": [
    "valid_ds.plot_distribution()"
   ]
  },
  {
   "cell_type": "code",
   "execution_count": null,
   "id": "4",
   "metadata": {},
   "outputs": [],
   "source": [
    "str(model._loss_func.__class__.__name__)"
   ]
  },
  {
   "cell_type": "code",
   "execution_count": null,
   "id": "5",
   "metadata": {},
   "outputs": [],
   "source": [
    "getattr(torch.nn, model._activation_func.__name__)"
   ]
  },
  {
   "cell_type": "code",
   "execution_count": null,
   "id": "6",
   "metadata": {},
   "outputs": [],
   "source": [
    "model = VCNN.load(\n",
    "    path=\".models/model_full_v2_2.pt\",\n",
    "    optimizer=torch.optim.AdamW,\n",
    "    activation_func=torch.nn.PReLU,\n",
    "    loss_func=torch.nn.CrossEntropyLoss,\n",
    "    relative_to_package=True,\n",
    ")"
   ]
  },
  {
   "cell_type": "code",
   "execution_count": null,
   "id": "7",
   "metadata": {},
   "outputs": [],
   "source": [
    "plt.plot(model._loss_metric.train_vals, label=\"Train\")\n",
    "plt.plot(model._loss_metric.valid_vals, label=\"Valid\")\n",
    "plt.xlabel(\"Epochs\")\n",
    "plt.ylabel(\"Loss\")\n",
    "plt.legend()"
   ]
  },
  {
   "cell_type": "code",
   "execution_count": null,
   "id": "8",
   "metadata": {},
   "outputs": [],
   "source": [
    "plt.plot(model._metrics[\"accuracy\"].train_vals, label=\"Train\")\n",
    "plt.plot(model._metrics[\"accuracy\"].valid_vals, label=\"Valid\")\n",
    "plt.xlabel(\"Epochs\")\n",
    "plt.ylabel(\"Accuracy\")\n",
    "plt.legend()"
   ]
  },
  {
   "cell_type": "code",
   "execution_count": null,
   "id": "9",
   "metadata": {},
   "outputs": [],
   "source": [
    "from sklearn.metrics import ConfusionMatrixDisplay\n",
    "from tqdm.auto import tqdm"
   ]
  },
  {
   "cell_type": "code",
   "execution_count": null,
   "id": "10",
   "metadata": {},
   "outputs": [],
   "source": [
    "model.model.eval()\n",
    "y_pred = torch.Tensor(\n",
    "    [model(valid_ds[int(img)][0][None]).argmax() for img in tqdm(np.arange(0, 400))]\n",
    ")"
   ]
  },
  {
   "cell_type": "code",
   "execution_count": null,
   "id": "11",
   "metadata": {},
   "outputs": [],
   "source": [
    "cmatrix = ConfusionMatrixDisplay.from_predictions(\n",
    "    y_pred=y_pred.cpu().numpy(), y_true=valid_ds.get_labels().cpu().numpy()\n",
    ")"
   ]
  },
  {
   "cell_type": "code",
   "execution_count": null,
   "id": "12",
   "metadata": {},
   "outputs": [],
   "source": [
    "print(str(model.model))"
   ]
  },
  {
   "cell_type": "code",
   "execution_count": null,
   "id": "13",
   "metadata": {},
   "outputs": [],
   "source": [
    "print(str(model.model))"
   ]
  },
  {
   "cell_type": "code",
   "execution_count": null,
   "id": "14",
   "metadata": {},
   "outputs": [],
   "source": []
  }
 ],
 "metadata": {
  "kernelspec": {
   "display_name": "Python 3 (ipykernel)",
   "language": "python",
   "name": "python3"
  },
  "language_info": {
   "codemirror_mode": {
    "name": "ipython",
    "version": 3
   },
   "file_extension": ".py",
   "mimetype": "text/x-python",
   "name": "python",
   "nbconvert_exporter": "python",
   "pygments_lexer": "ipython3",
   "version": "3.12.11"
  }
 },
 "nbformat": 4,
 "nbformat_minor": 5
}
