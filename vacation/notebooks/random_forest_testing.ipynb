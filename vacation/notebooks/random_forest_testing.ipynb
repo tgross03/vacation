{
 "cells": [
  {
   "cell_type": "code",
   "execution_count": null,
   "id": "0",
   "metadata": {},
   "outputs": [],
   "source": [
    "import numpy as np\n",
    "import torch\n",
    "import matplotlib.pyplot as plt\n",
    "from skimage.feature import hog\n",
    "from skimage import data, exposure\n",
    "from skimage.filters import gaussian\n",
    "from vacation.data import GalaxyDataset\n",
    "from tqdm import tqdm\n",
    "import torchvision.transforms as T\n",
    "from sklearn.ensemble import RandomForestClassifier\n",
    "from sklearn.model_selection import train_test_split\n",
    "from sklearn.metrics import (\n",
    "    classification_report,\n",
    "    accuracy_score,\n",
    "    confusion_matrix,\n",
    "    ConfusionMatrixDisplay,\n",
    "    roc_auc_score,\n",
    ")\n",
    "from scipy.stats import randint\n",
    "from sklearn.model_selection import RandomizedSearchCV"
   ]
  },
  {
   "cell_type": "code",
   "execution_count": null,
   "id": "1",
   "metadata": {},
   "outputs": [],
   "source": [
    "train_ds_aug = GalaxyDataset(\n",
    "    path=\"../../.data/Galaxy10_DECals_train.h5\",\n",
    "    device=\"cpu\",\n",
    "    max_cache_size=\"7G\",\n",
    "    cache_loaded=False,\n",
    ")"
   ]
  },
  {
   "cell_type": "code",
   "execution_count": null,
   "id": "2",
   "metadata": {},
   "outputs": [],
   "source": [
    "valid_ds_aug = GalaxyDataset(\n",
    "    path=\"../../.data/Galaxy10_DECals_valid.h5\",\n",
    "    device=\"cpu\",\n",
    "    max_cache_size=\"2G\",\n",
    "    cache_loaded=False,\n",
    ")"
   ]
  },
  {
   "cell_type": "code",
   "execution_count": null,
   "id": "3",
   "metadata": {},
   "outputs": [],
   "source": [
    "train_ds = GalaxyDataset(\n",
    "    path=\"../../.data/Galaxy10_DECals_proc_train.h5\",\n",
    "    device=\"cpu\",\n",
    "    max_cache_size=\"7G\",\n",
    "    cache_loaded=False,\n",
    ")"
   ]
  },
  {
   "cell_type": "code",
   "execution_count": null,
   "id": "4",
   "metadata": {},
   "outputs": [],
   "source": [
    "print(\"length train_ds_aug\", len(train_ds_aug))\n",
    "print(\"length valid_ds_aug\", len(valid_ds_aug))\n",
    "print(\"length train_ds\", len(train_ds))"
   ]
  },
  {
   "cell_type": "code",
   "execution_count": null,
   "id": "5",
   "metadata": {},
   "outputs": [],
   "source": [
    "from torch.utils.data import Subset\n",
    "\n",
    "n_train = 16000\n",
    "n_val = 1000\n",
    "\n",
    "np.random.seed(42)\n",
    "\n",
    "\n",
    "train_indices = [\n",
    "    int(i) for i in np.random.choice(len(train_ds), n_train, replace=False)\n",
    "]\n",
    "val_indices = [\n",
    "    int(i) for i in np.random.choice(len(valid_ds_aug), n_val, replace=False)\n",
    "]\n",
    "train_small = Subset(train_ds, train_indices)\n",
    "val_small = Subset(valid_ds_aug, val_indices)"
   ]
  },
  {
   "cell_type": "code",
   "execution_count": null,
   "id": "6",
   "metadata": {},
   "outputs": [],
   "source": [
    "gaussian_filter = T.GaussianBlur(3, sigma=1.0)"
   ]
  },
  {
   "cell_type": "code",
   "execution_count": null,
   "id": "7",
   "metadata": {},
   "outputs": [],
   "source": [
    "def hog_features(df, length=None, pixels_per_cell=(12, 12), visualize=False):\n",
    "\n",
    "    if length == None:\n",
    "        n = len(df)\n",
    "    else:\n",
    "        n = length\n",
    "\n",
    "    # example image to see the effect of HOG and the filter\n",
    "    sample_image = df[0][0]\n",
    "    sample_image = gaussian_filter(sample_image).permute(1, 2, 0).cpu().numpy()\n",
    "\n",
    "    sample_fd, sample_image = hog(\n",
    "        sample_image,\n",
    "        orientations=9,\n",
    "        pixels_per_cell=pixels_per_cell,\n",
    "        cells_per_block=(2, 2),\n",
    "        visualize=True,\n",
    "        channel_axis=-1,\n",
    "    )\n",
    "\n",
    "    # initialization of feature vector\n",
    "    X = np.zeros((n, sample_fd.shape[0]), dtype=np.float32)\n",
    "    y = np.zeros(n, dtype=np.int64)\n",
    "\n",
    "    for i in tqdm(range(n)):\n",
    "        image_tensor, label = df[i]\n",
    "        image_np = gaussian_filter(image_tensor).permute(1, 2, 0).cpu().numpy()\n",
    "        fd = hog(\n",
    "            image_np,\n",
    "            orientations=9,\n",
    "            pixels_per_cell=pixels_per_cell,\n",
    "            cells_per_block=(2, 2),\n",
    "            visualize=visualize,\n",
    "            channel_axis=-1,\n",
    "        )\n",
    "        X[i] = fd\n",
    "        y[i] = label\n",
    "    return X, y, sample_image"
   ]
  },
  {
   "cell_type": "code",
   "execution_count": null,
   "id": "8",
   "metadata": {},
   "outputs": [],
   "source": [
    "X_train, y_train, example_image = hog_features(train_ds)"
   ]
  },
  {
   "cell_type": "code",
   "execution_count": null,
   "id": "9",
   "metadata": {},
   "outputs": [],
   "source": [
    "len(valid_ds_aug)"
   ]
  },
  {
   "cell_type": "code",
   "execution_count": null,
   "id": "10",
   "metadata": {},
   "outputs": [],
   "source": [
    "X_val_aug, y_val_aug, _ = hog_features(valid_ds_aug)"
   ]
  },
  {
   "cell_type": "code",
   "execution_count": null,
   "id": "11",
   "metadata": {},
   "outputs": [],
   "source": [
    "np.save(\"rf_features_train_aug.npy\", X_train)\n",
    "np.save(\"rf_labels_train_aug.npy\", y_train)\n",
    "np.save(\"rf_features_valid_aug.npy\", X_val_aug)\n",
    "np.save(\"rf_labels_valid_aug.npy\", y_val_aug)"
   ]
  },
  {
   "cell_type": "code",
   "execution_count": null,
   "id": "12",
   "metadata": {},
   "outputs": [],
   "source": [
    "X_train_aug = np.load(\"rf_features_train_aug.npy\")\n",
    "y_train_aug = np.load(\"rf_labels_train_aug.npy\")\n",
    "\n",
    "X_val_aug = np.load(\"rf_features_valid_aug.npy\")\n",
    "y_val_aug = np.load(\"rf_labels_valid_aug.npy\")"
   ]
  },
  {
   "cell_type": "code",
   "execution_count": null,
   "id": "13",
   "metadata": {},
   "outputs": [],
   "source": [
    "print(len(X_train_aug), len(y_train_aug))\n",
    "print(len(X_val_aug), len(y_val_aug))"
   ]
  },
  {
   "cell_type": "code",
   "execution_count": null,
   "id": "14",
   "metadata": {},
   "outputs": [],
   "source": [
    "rf = RandomForestClassifier(\n",
    "    n_estimators=100,\n",
    "    max_depth=30,\n",
    "    n_jobs=-1,\n",
    ")\n",
    "rf.fit(X_train, y_train)\n",
    "\n",
    "y_pred = rf.predict(X_val_aug)\n",
    "print(classification_report(y_val_aug, y_pred))"
   ]
  },
  {
   "cell_type": "code",
   "execution_count": null,
   "id": "15",
   "metadata": {},
   "outputs": [],
   "source": [
    "y_train_pred = rf.predict(X_train_aug)"
   ]
  },
  {
   "cell_type": "code",
   "execution_count": null,
   "id": "16",
   "metadata": {},
   "outputs": [],
   "source": [
    "print(np.unique(y_val_aug, return_counts=True))"
   ]
  },
  {
   "cell_type": "code",
   "execution_count": null,
   "id": "17",
   "metadata": {},
   "outputs": [],
   "source": [
    "accuracy = accuracy_score(y_val_aug, y_pred)\n",
    "cm = confusion_matrix(y_val_aug, y_pred)"
   ]
  },
  {
   "cell_type": "code",
   "execution_count": null,
   "id": "18",
   "metadata": {},
   "outputs": [],
   "source": [
    "print(accuracy, \"on validation\")\n",
    "print(accuracy_score(y_train_aug, y_train_pred), \"on train\")"
   ]
  },
  {
   "cell_type": "code",
   "execution_count": null,
   "id": "19",
   "metadata": {},
   "outputs": [],
   "source": [
    "ConfusionMatrixDisplay(confusion_matrix=cm).plot()"
   ]
  },
  {
   "cell_type": "code",
   "execution_count": null,
   "id": "20",
   "metadata": {},
   "outputs": [],
   "source": [
    "RF = RandomForestClassifier()\n",
    "\n",
    "param_dist = {\n",
    "    \"n_estimators\": randint(50, 400),\n",
    "    \"max_features\": [\"sqrt\", \"log2\", None],\n",
    "    \"max_depth\": randint(1, 20),\n",
    "    \"min_samples_split\": randint(2, 10),\n",
    "    \"min_samples_leaf\": randint(1, 2),\n",
    "}\n",
    "\n",
    "rand_search = RandomizedSearchCV(\n",
    "    RF, param_distributions=param_dist, n_iter=5, cv=5, n_jobs=-1, verbose=1\n",
    ")\n",
    "\n",
    "rand_search.fit(X_train, y_train)"
   ]
  },
  {
   "cell_type": "code",
   "execution_count": null,
   "id": "21",
   "metadata": {},
   "outputs": [],
   "source": [
    "best_rf = rand_search.best_estimator_\n",
    "print(\"Best hyperparameters are:\", rand_search.best_params_)"
   ]
  },
  {
   "cell_type": "code",
   "execution_count": null,
   "id": "22",
   "metadata": {},
   "outputs": [],
   "source": [
    "y_pred = best_rf.predict(X_val)\n",
    "\n",
    "cm = confusion_matrix(y_val, y_pred)\n",
    "\n",
    "ConfusionMatrixDisplay(cm).plot()"
   ]
  },
  {
   "cell_type": "code",
   "execution_count": null,
   "id": "23",
   "metadata": {},
   "outputs": [],
   "source": [
    "print(\n",
    "    \"accuracy on validation set after hyperparameter optimization\",\n",
    "    accuracy_score(y_val, y_pred),\n",
    ")"
   ]
  },
  {
   "cell_type": "code",
   "execution_count": null,
   "id": "24",
   "metadata": {},
   "outputs": [],
   "source": [
    "misclassified_indices = np.where(y_pred != y_val)[0]\n",
    "print(misclassified_indices)\n",
    "misclassified = np.random.choice(misclassified_indices, 10)\n",
    "\n",
    "class_names = [\n",
    "    \"Disturbed\",\n",
    "    \"Merging\",\n",
    "    \"Round Smooth\",\n",
    "    \"In-between\",\n",
    "    \"Cigar\",\n",
    "    \"Barred Spiral\",\n",
    "    \"Unbarred Spiral\",\n",
    "    \"Unbarred Loose Spiral\",\n",
    "    \"Edge-on without Bulge\",\n",
    "    \"Edge-on with Bulge\",\n",
    "]\n",
    "\n",
    "fig, axes = plt.subplots(2, 5, figsize=(18, 7))\n",
    "for i, ax in enumerate(axes.flat):\n",
    "    idx = misclassified[i]\n",
    "    image = valid_ds[int(idx)][0].permute(1, 2, 0).cpu().numpy()\n",
    "\n",
    "    ax.imshow(image)\n",
    "    ax.axis(\"off\")\n",
    "    ax.set_title(\n",
    "        f\"Pred: {class_names[y_pred[int(idx)]]}\\n True: {class_names[y_val[int(idx)]]}\"\n",
    "    )"
   ]
  },
  {
   "cell_type": "code",
   "execution_count": null,
   "id": "25",
   "metadata": {},
   "outputs": [],
   "source": [
    "plt.imshow(gaussian_filter(train_ds[0][0]).permute(1, 2, 0).cpu())"
   ]
  },
  {
   "cell_type": "code",
   "execution_count": null,
   "id": "26",
   "metadata": {},
   "outputs": [],
   "source": [
    "plt.imshow(gaussian(train_ds[16500][0].permute(1, 2, 0).cpu()))"
   ]
  },
  {
   "cell_type": "code",
   "execution_count": null,
   "id": "27",
   "metadata": {},
   "outputs": [],
   "source": [
    "image = train_ds[16500][0].permute(1, 2, 0).cpu()\n",
    "image = gaussian(image, sigma=1.0)\n",
    "fd, hog_image = hog(\n",
    "    image,\n",
    "    orientations=9,\n",
    "    pixels_per_cell=(12, 12),\n",
    "    cells_per_block=(1, 1),\n",
    "    block_norm=\"L1\",\n",
    "    visualize=True,\n",
    "    channel_axis=-1,\n",
    ")"
   ]
  },
  {
   "cell_type": "code",
   "execution_count": null,
   "id": "28",
   "metadata": {},
   "outputs": [],
   "source": [
    "hog_image_rescaled = exposure.rescale_intensity(hog_image, in_range=(0, 10))"
   ]
  },
  {
   "cell_type": "code",
   "execution_count": null,
   "id": "29",
   "metadata": {},
   "outputs": [],
   "source": [
    "plt.imshow(hog_image_rescaled)"
   ]
  }
 ],
 "metadata": {
  "kernelspec": {
   "display_name": "vacation",
   "language": "python",
   "name": "python3"
  },
  "language_info": {
   "codemirror_mode": {
    "name": "ipython",
    "version": 3
   },
   "file_extension": ".py",
   "mimetype": "text/x-python",
   "name": "python",
   "nbconvert_exporter": "python",
   "pygments_lexer": "ipython3",
   "version": "3.13.5"
  }
 },
 "nbformat": 4,
 "nbformat_minor": 5
}
