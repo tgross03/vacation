{
 "cells": [
  {
   "cell_type": "code",
   "execution_count": null,
   "id": "0",
   "metadata": {},
   "outputs": [],
   "source": [
    "import numpy as np\n",
    "import matplotlib.pyplot as plt"
   ]
  },
  {
   "cell_type": "code",
   "execution_count": null,
   "id": "1",
   "metadata": {},
   "outputs": [],
   "source": [
    "layout = (3, 3)\n",
    "n_examples = layout[0] * layout[1]"
   ]
  },
  {
   "cell_type": "code",
   "execution_count": null,
   "id": "2",
   "metadata": {},
   "outputs": [],
   "source": [
    "y_true = np.random.randint(0, 10, 20)\n",
    "y_pred = np.random.randint(0, 10, 20)\n",
    "\n",
    "mask = y_true == y_pred\n",
    "\n",
    "accuracy = np.sum(mask) / y_true.size\n",
    "n_true = int(np.round(n_examples * accuracy))\n",
    "n_false = int(np.round(n_examples * (1 - accuracy)))"
   ]
  },
  {
   "cell_type": "code",
   "execution_count": null,
   "id": "3",
   "metadata": {},
   "outputs": [],
   "source": [
    "n_true"
   ]
  },
  {
   "cell_type": "code",
   "execution_count": null,
   "id": "4",
   "metadata": {},
   "outputs": [],
   "source": [
    "n_false"
   ]
  },
  {
   "cell_type": "code",
   "execution_count": null,
   "id": "5",
   "metadata": {},
   "outputs": [],
   "source": [
    "true_idx = np.random.choice(np.argwhere(mask == True).ravel(), n_true)\n",
    "false_idx = np.random.choice(np.argwhere(mask == False).ravel(), n_false)"
   ]
  },
  {
   "cell_type": "code",
   "execution_count": null,
   "id": "6",
   "metadata": {},
   "outputs": [],
   "source": [
    "true_idx"
   ]
  },
  {
   "cell_type": "code",
   "execution_count": null,
   "id": "7",
   "metadata": {},
   "outputs": [],
   "source": [
    "false_idx"
   ]
  },
  {
   "cell_type": "code",
   "execution_count": null,
   "id": "8",
   "metadata": {},
   "outputs": [],
   "source": []
  },
  {
   "cell_type": "code",
   "execution_count": null,
   "id": "9",
   "metadata": {},
   "outputs": [],
   "source": [
    "fig, ax = plt.subplots()\n",
    "ax.set_xticks([])\n",
    "ax.set_yticks([])\n",
    "\n",
    "plt.setp(ax.spines.values(), color=\"red\")\n",
    "[x.set_linewidth(3) for x in ax.spines.values()]\n",
    "plt.setp([ax.get_xticklines(), ax.get_yticklines()], color=\"red\")\n",
    "\n",
    "\n",
    "ax.imshow(np.random.random(size=(100, 100)))"
   ]
  },
  {
   "cell_type": "code",
   "execution_count": null,
   "id": "10",
   "metadata": {},
   "outputs": [],
   "source": [
    "import numpy as np\n",
    "from vacation.data import GalaxyDataset\n",
    "from vacation.evaluation.visualizations import example_matrix"
   ]
  },
  {
   "cell_type": "code",
   "execution_count": null,
   "id": "11",
   "metadata": {},
   "outputs": [],
   "source": [
    "dataset = GalaxyDataset(\n",
    "    \"/scratch/tgross/vacation_data/Galaxy10_DECals_valid.h5\",\n",
    "    device=\"cuda:1\",\n",
    "    index_collection=np.random.randint(0, 4204, 40),\n",
    ")"
   ]
  },
  {
   "cell_type": "code",
   "execution_count": null,
   "id": "12",
   "metadata": {},
   "outputs": [],
   "source": [
    "y_pred = np.random.randint(0, 10, 40)"
   ]
  },
  {
   "cell_type": "code",
   "execution_count": null,
   "id": "13",
   "metadata": {},
   "outputs": [],
   "source": [
    "example_matrix(\n",
    "    dataset=dataset,\n",
    "    y_pred=y_pred,\n",
    "    layout=(3, 3),\n",
    "    fig_args={\"figsize\": (7, 7)},\n",
    "    seed=1337,\n",
    "    save_path=\"./examples.pdf\",\n",
    ")"
   ]
  },
  {
   "cell_type": "code",
   "execution_count": null,
   "id": "14",
   "metadata": {},
   "outputs": [],
   "source": []
  }
 ],
 "metadata": {
  "kernelspec": {
   "display_name": "Python 3 (ipykernel)",
   "language": "python",
   "name": "python3"
  },
  "language_info": {
   "codemirror_mode": {
    "name": "ipython",
    "version": 3
   },
   "file_extension": ".py",
   "mimetype": "text/x-python",
   "name": "python",
   "nbconvert_exporter": "python",
   "pygments_lexer": "ipython3",
   "version": "3.12.11"
  }
 },
 "nbformat": 4,
 "nbformat_minor": 5
}
