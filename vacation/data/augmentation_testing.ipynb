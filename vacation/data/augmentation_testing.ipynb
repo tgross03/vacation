{
 "cells": [
  {
   "cell_type": "code",
   "execution_count": null,
   "id": "0",
   "metadata": {},
   "outputs": [],
   "source": [
    "import h5py\n",
    "import numpy as np\n",
    "import torchvision.transforms.v2 as transforms\n",
    "from scipy.signal import fftconvolve\n",
    "import torch\n",
    "from tqdm.auto import tqdm\n",
    "\n",
    "import shutil\n",
    "\n",
    "from vacation.data import download_dataset\n",
    "\n",
    "from sklearn.preprocessing import MinMaxScaler\n",
    "\n",
    "import matplotlib.pyplot as plt\n",
    "\n",
    "rng = np.random.default_rng(42)"
   ]
  },
  {
   "cell_type": "code",
   "execution_count": null,
   "id": "1",
   "metadata": {},
   "outputs": [],
   "source": [
    "download_dataset(\"../../.data/\", overwrite=True)"
   ]
  },
  {
   "cell_type": "code",
   "execution_count": null,
   "id": "2",
   "metadata": {},
   "outputs": [],
   "source": [
    "def numpy_to_tensor(image):\n",
    "    return torch.from_numpy(image).permute(2, 0, 1).float().to(\"cuda\")\n",
    "\n",
    "\n",
    "def tensor_to_numpy(im_tensor):\n",
    "    im_tensor = torch.clamp(im_tensor, 0, 1)\n",
    "    return im_tensor.permute(1, 2, 0).cpu().numpy()\n",
    "\n",
    "\n",
    "transform = transforms.Compose(\n",
    "    [\n",
    "        transforms.RandomHorizontalFlip(p=0.5),\n",
    "        transforms.RandomVerticalFlip(p=0.5),\n",
    "        transforms.GaussianNoise(mean=0.0, sigma=0.1, clip=True),\n",
    "        transforms.ColorJitter(brightness=0.4, contrast=0, saturation=0.5, hue=0),\n",
    "    ]\n",
    ")\n",
    "\n",
    "\n",
    "def augmented_class(path: str, class_index: int, target_count: int = 2600):\n",
    "\n",
    "    with h5py.File(path, \"r\") as hf:\n",
    "\n",
    "        labels = np.array(hf[\"ans\"])\n",
    "        images = hf[\"images\"]\n",
    "\n",
    "        original_indices = np.where(labels == class_index)[0]\n",
    "        needed_count = target_count - len(original_indices)\n",
    "\n",
    "        print(\n",
    "            f\"[Class {class_index}] Current: {len(original_indices)}, Adding: {needed_count}\"\n",
    "        )\n",
    "\n",
    "        augmented_images = np.zeros((needed_count, *images[0].shape))\n",
    "        augmented_labels = np.ones(labels.shape, dtype=np.uint8) * class_index\n",
    "\n",
    "        for i in tqdm(np.arange(needed_count), desc=f\"Augmenting class {class_index}\"):\n",
    "            idx = rng.choice(original_indices)\n",
    "            augmented_images[i] = tensor_to_numpy(\n",
    "                transform(numpy_to_tensor(images[idx]))\n",
    "            )\n",
    "\n",
    "    return augmented_images, augmented_labels\n",
    "\n",
    "\n",
    "def extend_dataset(\n",
    "    path: str,\n",
    "    target_path: str,\n",
    "    images: np.ndarray,\n",
    "    labels: np.ndarray,\n",
    "    overwrite: bool = True,\n",
    "):\n",
    "\n",
    "    target_path = Path(target_path)\n",
    "\n",
    "    if not target_path.is_file():\n",
    "        shutil.copy(Path(path), target_path)\n",
    "    elif not overwrite:\n",
    "        raise FileExistsError(\n",
    "            \"This file already exists. Set 'overwrite = True' to overwrite the file!\"\n",
    "        )\n",
    "\n",
    "    with h5py.File(target_path, mode=\"a\") as hf:\n",
    "\n",
    "        images_h5 = hf[\"images\"]\n",
    "        labels_h5 = hf[\"ans\"]\n",
    "\n",
    "        original_size = images_h5.shape[0]\n",
    "\n",
    "        images_h5.resize(original_size + images.shape[0], axis=0)\n",
    "        labels_h5.resize(original_size + labels.shape[0], axis=0)\n",
    "\n",
    "        images_h5[original_size:] = images\n",
    "        labels_h5[original_size:] = labels"
   ]
  },
  {
   "cell_type": "code",
   "execution_count": null,
   "id": "3",
   "metadata": {},
   "outputs": [],
   "source": [
    "augmented_im_3, augmented_label_3 = augmented_class(\n",
    "    \"../../.data/Galaxy10_DECals.h5\", 5, target_count=2100\n",
    ")"
   ]
  },
  {
   "cell_type": "code",
   "execution_count": null,
   "id": "4",
   "metadata": {},
   "outputs": [],
   "source": [
    "data, labels = extend_dataset(\n",
    "    path=\"../../.data/Galaxy10_DECals.h5\",\n",
    "    target_path=\"../../.data/Galaxy10_DECals_augmented.h5\",\n",
    "    images=augmented_im_3,\n",
    "    labels=augmented_label_3,\n",
    ")"
   ]
  },
  {
   "cell_type": "code",
   "execution_count": null,
   "id": "5",
   "metadata": {},
   "outputs": [],
   "source": [
    "plt.imshow(augmented_im_3[np.random.randint(0, len(augmented_label_3))][..., 2])\n",
    "plt.colorbar()"
   ]
  }
 ],
 "metadata": {
  "kernelspec": {
   "display_name": "Python 3 (ipykernel)",
   "language": "python",
   "name": "python3"
  },
  "language_info": {
   "codemirror_mode": {
    "name": "ipython",
    "version": 3
   },
   "file_extension": ".py",
   "mimetype": "text/x-python",
   "name": "python",
   "nbconvert_exporter": "python",
   "pygments_lexer": "ipython3",
   "version": "3.12.11"
  }
 },
 "nbformat": 4,
 "nbformat_minor": 5
}
