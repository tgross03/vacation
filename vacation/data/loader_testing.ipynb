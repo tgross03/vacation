{
 "cells": [
  {
   "cell_type": "code",
   "execution_count": 1,
   "id": "47d8d5e4-0177-46da-9319-75da272e3bc1",
   "metadata": {},
   "outputs": [],
   "source": [
    "import h5py"
   ]
  },
  {
   "cell_type": "code",
   "execution_count": 2,
   "id": "a9e54e74-428b-4796-bbee-94fe77de820d",
   "metadata": {},
   "outputs": [],
   "source": [
    "hf = h5py.File(\"../../.data/Galaxy10_DECals.h5\", \"r\")"
   ]
  },
  {
   "cell_type": "code",
   "execution_count": 8,
   "id": "5393d68c-022f-4280-8fab-cb5c8cd2528c",
   "metadata": {},
   "outputs": [
    {
     "data": {
      "text/plain": [
       "tensor([0, 0, 0,  ..., 9, 9, 9], device='cuda:0', dtype=torch.uint8)"
      ]
     },
     "execution_count": 8,
     "metadata": {},
     "output_type": "execute_result"
    }
   ],
   "source": [
    "torch.from_numpy(hf[\"ans\"][:]).to(\"cuda\")"
   ]
  },
  {
   "cell_type": "code",
   "execution_count": null,
   "id": "5007c3af-f1aa-4d55-a2cc-b3d8b0744a6d",
   "metadata": {},
   "outputs": [],
   "source": [
    "torch.from_numpy(hf[\"images\"][:]).to(\"cuda\")"
   ]
  },
  {
   "cell_type": "code",
   "execution_count": 7,
   "id": "638efff9-7217-4e17-85d6-b988afd99284",
   "metadata": {},
   "outputs": [
    {
     "data": {
      "text/plain": [
       "torch.Size([100, 3, 8, 8])"
      ]
     },
     "execution_count": 7,
     "metadata": {},
     "output_type": "execute_result"
    }
   ],
   "source": [
    "a = torch.zeros((100, 8, 8, 3))\n",
    "a.swapaxes(1, 3).shape"
   ]
  },
  {
   "cell_type": "code",
   "execution_count": 2,
   "id": "d309a243-079b-4c35-999a-eb2e033a25ea",
   "metadata": {},
   "outputs": [],
   "source": [
    "from vacation.data import GalaxyDataset\n",
    "from torch.utils.data import DataLoader\n",
    "import torch\n",
    "\n",
    "import matplotlib.pyplot as plt\n",
    "\n",
    "from tqdm.auto import tqdm"
   ]
  },
  {
   "cell_type": "code",
   "execution_count": 3,
   "id": "c66d70ef-343d-4ff2-a749-10e2c5573e8e",
   "metadata": {},
   "outputs": [],
   "source": [
    "ds = GalaxyDataset(path=\"../../.data/Galaxy10_DECals.h5\", device=\"cuda\", max_cache_size=\"4G\")"
   ]
  },
  {
   "cell_type": "code",
   "execution_count": 4,
   "id": "41f9d2fa-b999-494f-9609-4583b7ee2fd8",
   "metadata": {},
   "outputs": [],
   "source": [
    "loader = DataLoader(ds, batch_size=10, shuffle=False)"
   ]
  },
  {
   "cell_type": "code",
   "execution_count": 6,
   "id": "476d1b31-fa9f-4a8c-9f6e-d977eff26124",
   "metadata": {},
   "outputs": [
    {
     "data": {
      "application/vnd.jupyter.widget-view+json": {
       "model_id": "ac96055befd34dfdb27525720fb66ca3",
       "version_major": 2,
       "version_minor": 0
      },
      "text/plain": [
       "  0%|          | 0/1774 [00:00<?, ?it/s]"
      ]
     },
     "metadata": {},
     "output_type": "display_data"
    },
    {
     "name": "stdout",
     "output_type": "stream",
     "text": [
      "torch.Size([10, 256, 256]) torch.Size([10])\n",
      "torch.Size([10, 256, 256]) torch.Size([10])\n",
      "torch.Size([10, 256, 256]) torch.Size([10])\n",
      "torch.Size([10, 256, 256]) torch.Size([10])\n",
      "torch.Size([10, 256, 256]) torch.Size([10])\n",
      "torch.Size([10, 256, 256]) torch.Size([10])\n",
      "torch.Size([10, 256, 256]) torch.Size([10])\n",
      "torch.Size([10, 256, 256]) torch.Size([10])\n"
     ]
    },
    {
     "name": "stderr",
     "output_type": "stream",
     "text": [
      "\n",
      "KeyboardInterrupt\n",
      "\n"
     ]
    }
   ],
   "source": [
    "for X, y in tqdm(loader):\n",
    "    print(X.shape, y.shape)"
   ]
  },
  {
   "cell_type": "code",
   "execution_count": null,
   "id": "fb053c86-2501-4d65-b1d8-c66c736251bf",
   "metadata": {},
   "outputs": [],
   "source": []
  }
 ],
 "metadata": {
  "kernelspec": {
   "display_name": "Python 3 (ipykernel)",
   "language": "python",
   "name": "python3"
  },
  "language_info": {
   "codemirror_mode": {
    "name": "ipython",
    "version": 3
   },
   "file_extension": ".py",
   "mimetype": "text/x-python",
   "name": "python",
   "nbconvert_exporter": "python",
   "pygments_lexer": "ipython3",
   "version": "3.12.2"
  }
 },
 "nbformat": 4,
 "nbformat_minor": 5
}
